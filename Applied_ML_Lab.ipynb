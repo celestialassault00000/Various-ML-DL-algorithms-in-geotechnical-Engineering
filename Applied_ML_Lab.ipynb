{
  "nbformat": 4,
  "nbformat_minor": 0,
  "metadata": {
    "colab": {
      "provenance": []
    },
    "kernelspec": {
      "name": "python3",
      "display_name": "Python 3"
    },
    "language_info": {
      "name": "python"
    }
  },
  "cells": [
    {
      "cell_type": "code",
      "execution_count": null,
      "metadata": {
        "colab": {
          "base_uri": "https://localhost:8080/"
        },
        "id": "y73wD1qnSdu2",
        "outputId": "e0c69394-955b-4730-f6fc-9bc8f25137de"
      },
      "outputs": [
        {
          "output_type": "stream",
          "name": "stdout",
          "text": [
            "Mounted at /content/gdrive\n"
          ]
        }
      ],
      "source": [
        "import pandas as pd\n",
        "import numpy as np\n",
        "import seaborn as sb\n",
        "from scipy.stats import pearsonr\n",
        "import matplotlib.pyplot as plt\n",
        "from google.colab import drive\n",
        "drive.mount(\"/content/gdrive\")"
      ]
    },
    {
      "cell_type": "code",
      "source": [
        "pip install lazypredict"
      ],
      "metadata": {
        "id": "9SK41S9YTY4c",
        "colab": {
          "base_uri": "https://localhost:8080/"
        },
        "outputId": "1638e07e-b583-4dc4-d13f-642bd0608eaf"
      },
      "execution_count": null,
      "outputs": [
        {
          "output_type": "stream",
          "name": "stdout",
          "text": [
            "Collecting lazypredict\n",
            "  Downloading lazypredict-0.2.12-py2.py3-none-any.whl (12 kB)\n",
            "Requirement already satisfied: click in /usr/local/lib/python3.10/dist-packages (from lazypredict) (8.1.7)\n",
            "Requirement already satisfied: scikit-learn in /usr/local/lib/python3.10/dist-packages (from lazypredict) (1.2.2)\n",
            "Requirement already satisfied: pandas in /usr/local/lib/python3.10/dist-packages (from lazypredict) (1.5.3)\n",
            "Requirement already satisfied: tqdm in /usr/local/lib/python3.10/dist-packages (from lazypredict) (4.66.1)\n",
            "Requirement already satisfied: joblib in /usr/local/lib/python3.10/dist-packages (from lazypredict) (1.3.2)\n",
            "Requirement already satisfied: lightgbm in /usr/local/lib/python3.10/dist-packages (from lazypredict) (4.0.0)\n",
            "Requirement already satisfied: xgboost in /usr/local/lib/python3.10/dist-packages (from lazypredict) (2.0.0)\n",
            "Requirement already satisfied: numpy in /usr/local/lib/python3.10/dist-packages (from lightgbm->lazypredict) (1.23.5)\n",
            "Requirement already satisfied: scipy in /usr/local/lib/python3.10/dist-packages (from lightgbm->lazypredict) (1.11.3)\n",
            "Requirement already satisfied: python-dateutil>=2.8.1 in /usr/local/lib/python3.10/dist-packages (from pandas->lazypredict) (2.8.2)\n",
            "Requirement already satisfied: pytz>=2020.1 in /usr/local/lib/python3.10/dist-packages (from pandas->lazypredict) (2023.3.post1)\n",
            "Requirement already satisfied: threadpoolctl>=2.0.0 in /usr/local/lib/python3.10/dist-packages (from scikit-learn->lazypredict) (3.2.0)\n",
            "Requirement already satisfied: six>=1.5 in /usr/local/lib/python3.10/dist-packages (from python-dateutil>=2.8.1->pandas->lazypredict) (1.16.0)\n",
            "Installing collected packages: lazypredict\n",
            "Successfully installed lazypredict-0.2.12\n"
          ]
        }
      ]
    },
    {
      "cell_type": "code",
      "source": [
        "import lazypredict\n",
        "from lazypredict.Supervised import LazyRegressor\n",
        "from sklearn.metrics import r2_score\n"
      ],
      "metadata": {
        "id": "ZGRHL-n1TeCK"
      },
      "execution_count": null,
      "outputs": []
    },
    {
      "cell_type": "code",
      "source": [
        "data=pd.read_csv(\"/content/gdrive/MyDrive/sheet2 - sheet2.csv\")"
      ],
      "metadata": {
        "id": "JMkvayUVSoan"
      },
      "execution_count": null,
      "outputs": []
    },
    {
      "cell_type": "code",
      "source": [
        "data = data.drop(['S. No.','Dmax, mm',\"Shear box size (L x W, mm)\",\"Relative density (Dense = D; Medium Dense = MD; Loose = L)\",'Relative Density, %','ram','D10 (mm)','D30 (mm)','D60 (mm)','S_B_D'],axis=1)"
      ],
      "metadata": {
        "id": "av-Bd4a3Svfy"
      },
      "execution_count": null,
      "outputs": []
    },
    {
      "cell_type": "code",
      "source": [
        "import pandas as pd\n",
        "\n",
        "def convert_values(value):\n",
        "    if value == \"loose\":\n",
        "        return 1\n",
        "    elif value == \"medium\":\n",
        "        return 2\n",
        "    elif value == \"dense\":\n",
        "        return 3\n",
        "\n",
        "# Convert the values in the \"column_name\" column using the function\n",
        "data[\"R_D(%)\"] = data[\"R_D(%)\"].apply(convert_values)"
      ],
      "metadata": {
        "id": "QZ6pkRhzS0Gl"
      },
      "execution_count": null,
      "outputs": []
    },
    {
      "cell_type": "code",
      "source": [],
      "metadata": {
        "id": "6DmS9Am7Mzg1"
      },
      "execution_count": null,
      "outputs": []
    },
    {
      "cell_type": "code",
      "source": [
        "data_min_max = data.copy()\n",
        "data_mean_variance = data.copy()"
      ],
      "metadata": {
        "id": "bbE_GMs6uhsn"
      },
      "execution_count": null,
      "outputs": []
    },
    {
      "cell_type": "code",
      "source": [
        "import numpy as np\n",
        "\n",
        "\n",
        "# calculate mean and standard deviation of the data\n",
        "mean = np.mean(data, axis=0)\n",
        "std_dev = np.std(data, axis=0)\n",
        "\n",
        "# normalize the df using Z-score normalization\n",
        "df = (data - mean) / std_dev\n",
        "\n",
        "\n"
      ],
      "metadata": {
        "id": "VBpGLrp8y5PB"
      },
      "execution_count": null,
      "outputs": []
    },
    {
      "cell_type": "code",
      "source": [
        "y= df[\"P_S_S, kPa\"]\n",
        "x = df.drop([\"P_S_S, kPa\"],axis=1)"
      ],
      "metadata": {
        "id": "N16zRqf3PhjP"
      },
      "execution_count": null,
      "outputs": []
    },
    {
      "cell_type": "code",
      "source": [
        "from sklearn.model_selection import train_test_split\n",
        "x_train, x_test, y_train, y_test = train_test_split(x,y,\n",
        "    test_size=0.2, shuffle = True, random_state = 0)"
      ],
      "metadata": {
        "id": "DzB9kGI5Pm1U"
      },
      "execution_count": null,
      "outputs": []
    },
    {
      "cell_type": "code",
      "source": [],
      "metadata": {
        "id": "7HSCy9FZPzwP"
      },
      "execution_count": null,
      "outputs": []
    },
    {
      "cell_type": "code",
      "source": [
        "rf = RandomForestRegressor()\n",
        "param_grid_rf = {'n_estimators': [50, 100, 150], 'max_depth': [3, 4, 5]}\n",
        "grid_rf = GridSearchCV(rf, param_grid_rf, scoring='neg_mean_squared_error', cv=5)\n",
        "grid_rf.fit(x_train, y_train)\n",
        "best_rf = grid_rf.best_estimator_\n",
        "y_pred_rf = best_rf.predict(x_train)\n",
        "\n",
        "\n",
        "\n",
        "\n",
        "model = Sequential()\n",
        "model.add(Dense(64, input_dim=x_train.shape[1], activation='relu'))\n",
        "model.add(Dense(32, activation='relu'))\n",
        "model.add(Dense(1, activation='linear'))\n",
        "model.compile(loss='mean_squared_error', optimizer='adam')\n",
        "# Train the first layer on the training data\n",
        "model.fit(x_train, y_pred_rf, epochs=50, batch_size=32, verbose=0)\n",
        "\n",
        "# Use the output of the first layer as input to the second layer\n",
        "y_pred_ann = model.predict(x_train)\n",
        "\n",
        "# Use grid search to tune hyperparameters for the SVR model\n",
        "svr = SVR()\n",
        "param_grid_svr = {'C': [0.01, 0.1, 1, 10], 'epsilon': [0.01, 0.1, 1, 10]}\n",
        "grid_svr = GridSearchCV(svr, param_grid_svr, scoring='neg_mean_squared_error', cv=5)\n",
        "grid_svr.fit(x_train, y_pred_ann)\n",
        "best_svr = grid_svr.best_estimator_\n",
        "y_train_svr = grid_svr.predict(x_train)\n",
        "\n",
        "# Use grid search to tune hyperparameters for the XGBoost model\n",
        "xgb = XGBRegressor()\n",
        "param_grid_xgb = {'n_estimators': [50, 100, 150], 'max_depth': [3, 4, 5],'learning_rate':[0.1,0.5,0.9]}\n",
        "grid_xgb = GridSearchCV(xgb, param_grid_xgb, scoring='neg_mean_squared_error', cv=5)\n",
        "grid_xgb.fit(x_train, y_train_svr)\n",
        "best_xgb = grid_xgb.best_estimator_\n",
        "y_pred_final = grid_xgb.predict(x_train)\n",
        "\n",
        "\n",
        "\n",
        "# # Calculate the root mean squared error of the ensemble model for testing data\n",
        "# rmse_ensemble_test = np.sqrt(mean_squared_error(y_test, y_pred_rf))\n",
        "# print(\"RMSE of the ensemble model (testing): \", rmse_ensemble_test)\n",
        "\n",
        "\n",
        "rmse_ensemble_train = np.sqrt(mean_squared_error(y_train, y_pred_final))\n",
        "print(\"RMSE of the ensemble model (training): \", rmse_ensemble_train)"
      ],
      "metadata": {
        "colab": {
          "base_uri": "https://localhost:8080/"
        },
        "id": "tapmjsY-NZSp",
        "outputId": "efc3fa06-b08c-4200-abe4-35f4a8ef9391"
      },
      "execution_count": null,
      "outputs": [
        {
          "output_type": "stream",
          "name": "stdout",
          "text": [
            "8/8 [==============================] - 0s 3ms/step\n",
            "RMSE of the ensemble model (training):  0.36429898156129004\n"
          ]
        }
      ]
    },
    {
      "cell_type": "code",
      "source": [],
      "metadata": {
        "id": "Enx96zfy_CbN"
      },
      "execution_count": null,
      "outputs": []
    },
    {
      "cell_type": "code",
      "source": [],
      "metadata": {
        "id": "wXPJmAuJuuHE"
      },
      "execution_count": null,
      "outputs": []
    },
    {
      "cell_type": "code",
      "source": [
        "from sklearn.svm import SVR\n",
        "from sklearn.model_selection import train_test_split\n",
        "from sklearn.metrics import mean_squared_error\n",
        "from sklearn.ensemble import RandomForestRegressor\n",
        "import numpy as np\n",
        "from keras.models import Sequential\n",
        "from keras.layers import Dense\n",
        "# Create Random Forest Regressor object and fit the training data\n",
        "# Define the model architecture\n",
        "import numpy as np\n",
        "from sklearn.ensemble import RandomForestRegressor\n",
        "from sklearn.svm import SVR\n",
        "from xgboost import XGBRegressor\n",
        "from keras.models import Sequential\n",
        "from keras.layers import Dense\n",
        "from sklearn.model_selection import train_test_split, GridSearchCV\n",
        "from sklearn.metrics import mean_squared_error\n",
        "\n",
        "from sklearn.ensemble import RandomForestRegressor\n",
        "\n",
        "\n",
        "# Create Random Forest Regressor object and fit the training data\n",
        "model = Sequential()\n",
        "model.add(Dense(64, input_dim=x_train.shape[1], activation='relu'))\n",
        "model.add(Dense(32, activation='relu'))\n",
        "model.add(Dense(1, activation='linear'))\n",
        "model.compile(loss='mean_squared_error', optimizer='adam')\n",
        "# Train the first layer on the training data\n",
        "model.fit(x_train, y_train, epochs=50, batch_size=32, verbose=0)\n",
        "\n",
        "# Use the output of the first layer as input to the second layer\n",
        "y_pred_ann = model.predict(x_test)\n",
        "X_train2 = model.predict(x_train)\n",
        "\n",
        "# Use grid search to tune hyperparameters for the SVR model\n",
        "svr = SVR()\n",
        "param_grid_svr = {'C': [0.01, 0.1, 1, 10], 'epsilon': [0.01, 0.1, 1, 10]}\n",
        "grid_svr = GridSearchCV(svr, param_grid_svr, scoring='neg_mean_squared_error', cv=5)\n",
        "grid_svr.fit(X_train2, y_train)\n",
        "best_svr = grid_svr.best_estimator_\n",
        "\n",
        "# Use grid search to tune hyperparameters for the XGBoost model\n",
        "xgb = XGBRegressor()\n",
        "param_grid_xgb = {'n_estimators': [50, 100, 150], 'max_depth': [3, 4, 5],'learning_rate':[0.1,0.5,0.9]}\n",
        "grid_xgb = GridSearchCV(xgb, param_grid_xgb, scoring='neg_mean_squared_error', cv=5)\n",
        "grid_xgb.fit(X_train2, y_train)\n",
        "best_xgb = grid_xgb.best_estimator_\n",
        "\n",
        "# Use grid search to tune hyperparameters for the Random Forest model\n",
        "rf = RandomForestRegressor()\n",
        "param_grid_rf = {'n_estimators': [50, 100, 150], 'max_depth': [3, 4, 5]}\n",
        "grid_rf = GridSearchCV(rf, param_grid_rf, scoring='neg_mean_squared_error', cv=5)\n",
        "grid_rf.fit(X_train2, y_train)\n",
        "best_rf = grid_rf.best_estimator_\n",
        "\n",
        "\n",
        "# Use the second layer's outputs as input to the Random Forest model\n",
        "X_test2 = model.predict(x_test)\n",
        "y_pred_rf = best_rf.predict(X_test2)\n",
        "\n",
        "# Calculate the root mean squared error of the ensemble model for testing data\n",
        "rmse_ensemble_test = np.sqrt(mean_squared_error(y_test, y_pred_rf))\n",
        "print(\"RMSE of the ensemble model (testing): \", rmse_ensemble_test)\n",
        "\n",
        "# Calculate the root mean squared error of the ensemble model for training data\n",
        "y_pred_train_xgb = best_xgb.predict(X_train2)\n",
        "y_pred_train_rf = best_rf.predict(X_train2)\n",
        "rmse_ensemble_train = np.sqrt(mean_squared_error(y_train, y_pred_train_rf))\n",
        "print(\"RMSE of the ensemble model (training): \", rmse_ensemble_train)\n",
        "\n",
        "\n",
        "\n",
        "print(r2_score(y_train, y_pred_train_rf))\n",
        "print(r2_score(y_test, y_pred_rf))"
      ],
      "metadata": {
        "colab": {
          "base_uri": "https://localhost:8080/",
          "height": 235
        },
        "id": "GlVDfeZ1DgvG",
        "outputId": "e1725f99-1edd-4785-adee-eee0950246bc"
      },
      "execution_count": null,
      "outputs": [
        {
          "output_type": "error",
          "ename": "NameError",
          "evalue": "ignored",
          "traceback": [
            "\u001b[0;31m---------------------------------------------------------------------------\u001b[0m",
            "\u001b[0;31mNameError\u001b[0m                                 Traceback (most recent call last)",
            "\u001b[0;32m<ipython-input-7-bc8bd1feda39>\u001b[0m in \u001b[0;36m<cell line: 24>\u001b[0;34m()\u001b[0m\n\u001b[1;32m     22\u001b[0m \u001b[0;31m# Create Random Forest Regressor object and fit the training data\u001b[0m\u001b[0;34m\u001b[0m\u001b[0;34m\u001b[0m\u001b[0m\n\u001b[1;32m     23\u001b[0m \u001b[0mmodel\u001b[0m \u001b[0;34m=\u001b[0m \u001b[0mSequential\u001b[0m\u001b[0;34m(\u001b[0m\u001b[0;34m)\u001b[0m\u001b[0;34m\u001b[0m\u001b[0;34m\u001b[0m\u001b[0m\n\u001b[0;32m---> 24\u001b[0;31m \u001b[0mmodel\u001b[0m\u001b[0;34m.\u001b[0m\u001b[0madd\u001b[0m\u001b[0;34m(\u001b[0m\u001b[0mDense\u001b[0m\u001b[0;34m(\u001b[0m\u001b[0;36m64\u001b[0m\u001b[0;34m,\u001b[0m \u001b[0minput_dim\u001b[0m\u001b[0;34m=\u001b[0m\u001b[0mx_train\u001b[0m\u001b[0;34m.\u001b[0m\u001b[0mshape\u001b[0m\u001b[0;34m[\u001b[0m\u001b[0;36m1\u001b[0m\u001b[0;34m]\u001b[0m\u001b[0;34m,\u001b[0m \u001b[0mactivation\u001b[0m\u001b[0;34m=\u001b[0m\u001b[0;34m'relu'\u001b[0m\u001b[0;34m)\u001b[0m\u001b[0;34m)\u001b[0m\u001b[0;34m\u001b[0m\u001b[0;34m\u001b[0m\u001b[0m\n\u001b[0m\u001b[1;32m     25\u001b[0m \u001b[0mmodel\u001b[0m\u001b[0;34m.\u001b[0m\u001b[0madd\u001b[0m\u001b[0;34m(\u001b[0m\u001b[0mDense\u001b[0m\u001b[0;34m(\u001b[0m\u001b[0;36m32\u001b[0m\u001b[0;34m,\u001b[0m \u001b[0mactivation\u001b[0m\u001b[0;34m=\u001b[0m\u001b[0;34m'relu'\u001b[0m\u001b[0;34m)\u001b[0m\u001b[0;34m)\u001b[0m\u001b[0;34m\u001b[0m\u001b[0;34m\u001b[0m\u001b[0m\n\u001b[1;32m     26\u001b[0m \u001b[0mmodel\u001b[0m\u001b[0;34m.\u001b[0m\u001b[0madd\u001b[0m\u001b[0;34m(\u001b[0m\u001b[0mDense\u001b[0m\u001b[0;34m(\u001b[0m\u001b[0;36m1\u001b[0m\u001b[0;34m,\u001b[0m \u001b[0mactivation\u001b[0m\u001b[0;34m=\u001b[0m\u001b[0;34m'linear'\u001b[0m\u001b[0;34m)\u001b[0m\u001b[0;34m)\u001b[0m\u001b[0;34m\u001b[0m\u001b[0;34m\u001b[0m\u001b[0m\n",
            "\u001b[0;31mNameError\u001b[0m: name 'x_train' is not defined"
          ]
        }
      ]
    },
    {
      "cell_type": "code",
      "source": [],
      "metadata": {
        "id": "dUD9IOIzDtzd"
      },
      "execution_count": null,
      "outputs": []
    },
    {
      "cell_type": "code",
      "source": [
        "from sklearn.model_selection import train_test_split\n",
        "x_train, x_test, y_train, y_test = train_test_split(x,y,\n",
        "    test_size=0.2, shuffle = True, random_state = 0)\n",
        "\n",
        "\n",
        "\n",
        "from xgboost import XGBRegressor\n",
        "from sklearn.metrics import mean_squared_error as MSE\n",
        "xg = XGBRegressor(objective='reg:squarederror')\n",
        "xg.fit(x_train,y_train)\n",
        "pred = xg.predict(x_test)\n",
        "pred2= xg.predict(x_train)\n",
        "rmse = np.sqrt(MSE(y_test, pred))\n",
        "print(\"RMSE  for xgboost testing: % f\" %(rmse))\n",
        "print(\"rmse for training  xgboost:  \", np.sqrt(MSE(y_train,pred2)))\n",
        "\n",
        "print(\"**\"*50)\n",
        "\n",
        "from sklearn.svm import SVR\n",
        "from sklearn.model_selection import train_test_split\n",
        "from sklearn.metrics import mean_squared_error\n",
        "\n",
        "\n",
        "# Create SVR object and fit the training data\n",
        "svr = SVR(kernel='rbf', C=1, epsilon=0.1)\n",
        "svr.fit(x_train, y_train)\n",
        "\n",
        "# Make predictions on the training and test data\n",
        "y_pred_train = svr.predict(x_train)\n",
        "y_pred_test = svr.predict(x_test)\n",
        "\n",
        "# Calculate the root mean squared error for training and test sets\n",
        "rmse_train = mean_squared_error(y_train, y_pred_train, squared=False)\n",
        "rmse_test = mean_squared_error(y_test, y_pred_test, squared=False)\n",
        "\n",
        "print(\"RMSE for training set svr: \", rmse_train)\n",
        "print(\"RMSE for test set svr  :   \", rmse_test)\n",
        "\n",
        "\n",
        "\n",
        "\n",
        "print(\"**\"*50)\n",
        "\n",
        "from sklearn.ensemble import RandomForestRegressor\n",
        "\n",
        "\n",
        "# Create Random Forest Regressor object and fit the training data\n",
        "rf = RandomForestRegressor(n_estimators=100, random_state=42)\n",
        "rf.fit(x_train, y_train)\n",
        "\n",
        "# Make predictions on the training and test data\n",
        "y_pred_train = rf.predict(x_train)\n",
        "y_pred_test = rf.predict(x_test)\n",
        "\n",
        "# Calculate the root mean squared error for training and test sets\n",
        "rmse_train = mean_squared_error(y_train, y_pred_train, squared=False)\n",
        "rmse_test = mean_squared_error(y_test, y_pred_test, squared=False)\n",
        "\n",
        "print(\"RMSE for training set for random forest: \", rmse_train)\n",
        "print(\"RMSE for test set for random forest : \", rmse_test)\n",
        "\n",
        "print(\"**\"*50)\n",
        "\n",
        "\n",
        "import numpy as np\n",
        "from keras.models import Sequential\n",
        "from keras.layers import Dense\n",
        "from sklearn.model_selection import train_test_split\n",
        "from sklearn.metrics import mean_squared_error\n",
        "\n",
        "\n",
        "\n",
        "\n",
        "# Define the model architecture\n",
        "model = Sequential()\n",
        "model.add(Dense(64, input_dim=x_train.shape[1], activation='relu'))\n",
        "model.add(Dense(32, activation='relu'))\n",
        "model.add(Dense(1, activation='linear'))\n",
        "\n",
        "# Compile the model\n",
        "model.compile(loss='mean_squared_error', optimizer='adam')\n",
        "\n",
        "# Train the model on the training data\n",
        "model.fit(x_train, y_train, epochs=50, batch_size=8, verbose=0)\n",
        "\n",
        "# Make predictions on the training and test data\n",
        "y_pred_train = model.predict(x_train)\n",
        "y_pred_test = model.predict(x_test)\n",
        "\n",
        "# Calculate the root mean squared error for training and test sets\n",
        "rmse_train = np.sqrt(mean_squared_error(y_train, y_pred_train))\n",
        "rmse_test = np.sqrt(mean_squared_error(y_test, y_pred_test))\n",
        "\n",
        "print(\"RMSE for training set for ANN: \", rmse_train)\n",
        "print(\"RMSE for test set for ANN : \", rmse_test)\n",
        "\n"
      ],
      "metadata": {
        "colab": {
          "base_uri": "https://localhost:8080/"
        },
        "id": "kk-lqewG_BKu",
        "outputId": "923dacbd-7023-45c0-98d2-586f3b391535"
      },
      "execution_count": null,
      "outputs": [
        {
          "output_type": "stream",
          "name": "stdout",
          "text": [
            "RMSE  for xgboost testing:  23.699332\n",
            "rmse for training  xgboost:   2.5454523056186966\n",
            "****************************************************************************************************\n",
            "RMSE for training set svr:  121.20067413289073\n",
            "RMSE for test set svr  :    114.72406007240879\n",
            "****************************************************************************************************\n",
            "RMSE for training set for random forest:  15.423120364236413\n",
            "RMSE for test set for random forest :  23.856497905151876\n",
            "****************************************************************************************************\n",
            "8/8 [==============================] - 0s 2ms/step\n",
            "2/2 [==============================] - 0s 6ms/step\n",
            "RMSE for training set for ANN:  57.68630968746623\n",
            "RMSE for test set for ANN :  30.434104067870738\n"
          ]
        }
      ]
    },
    {
      "cell_type": "code",
      "source": [
        "import numpy as np\n",
        "from sklearn.ensemble import RandomForestRegressor\n",
        "from sklearn.svm import SVR\n",
        "from xgboost import XGBRegressor\n",
        "from keras.models import Sequential\n",
        "from keras.layers import Dense\n",
        "from sklearn.model_selection import train_test_split, GridSearchCV\n",
        "from sklearn.metrics import mean_squared_error\n",
        "\n",
        "\n",
        "# Define the architecture of the neural network\n",
        "model = Sequential()\n",
        "model.add(Dense(64, input_dim=x_train.shape[1], activation='relu'))\n",
        "model.add(Dense(32, activation='relu'))\n",
        "model.add(Dense(1, activation='linear'))\n",
        "model.compile(loss='mean_squared_error', optimizer='adam')\n",
        "# Train the first layer on the training data\n",
        "model.fit(x_train, y_train, epochs=50, batch_size=32, verbose=0)\n",
        "\n",
        "# Use the output of the first layer as input to the second layer\n",
        "y_pred_ann = model.predict(x_test)\n",
        "X_train2 = model.predict(x_train)\n",
        "\n",
        "# Use grid search to tune hyperparameters for the SVR model\n",
        "svr = SVR()\n",
        "param_grid_svr = {'C': [0.01, 0.1, 1, 10], 'epsilon': [0.01, 0.1, 1, 10]}\n",
        "grid_svr = GridSearchCV(svr, param_grid_svr, scoring='neg_mean_squared_error', cv=5)\n",
        "grid_svr.fit(X_train2, y_train)\n",
        "best_svr = grid_svr.best_estimator_\n",
        "\n",
        "# Use grid search to tune hyperparameters for the XGBoost model\n",
        "xgb = XGBRegressor()\n",
        "param_grid_xgb = {'n_estimators': [50, 100, 150], 'max_depth': [3, 4, 5],'learning_rate':[0.1,0.5,0.9]}\n",
        "grid_xgb = GridSearchCV(xgb, param_grid_xgb, scoring='neg_mean_squared_error', cv=5)\n",
        "grid_xgb.fit(X_train2, y_train)\n",
        "best_xgb = grid_xgb.best_estimator_\n",
        "\n",
        "# Use grid search to tune hyperparameters for the Random Forest model\n",
        "rf = RandomForestRegressor()\n",
        "param_grid_rf = {'n_estimators': [50, 100, 150], 'max_depth': [3, 4, 5]}\n",
        "grid_rf = GridSearchCV(rf, param_grid_rf, scoring='neg_mean_squared_error', cv=5)\n",
        "grid_rf.fit(X_train2, y_train)\n",
        "best_rf = grid_rf.best_estimator_\n",
        "\n",
        "# Use the second layer's outputs as input to the XGBoost model\n",
        "X_test2 = model.predict(x_test)\n",
        "y_pred_xgb = best_xgb.predict(X_test2)\n",
        "\n",
        "# Use the second layer's outputs as input to the Random Forest model\n",
        "y_pred_rf = best_rf.predict(X_test2)\n",
        "\n",
        "# Combine the predictions of the SVR, XGBoost, and Random Forest models\n",
        "y_pred_ensemble = (y_pred_xgb + y_pred_rf + best_svr.predict(X_test2)) / 3\n",
        "\n",
        "# Calculate the root mean squared error of the ensemble model for testing data\n",
        "rmse_ensemble_test = np.sqrt(mean_squared_error(y_test, y_pred_ensemble))\n",
        "print(\"RMSE of the ensemble model (testing): \", rmse_ensemble_test)\n",
        "\n",
        "y_pred_train_xgb = grid_xgb.predict(X_train2)\n",
        "y_pred_train_rf = grid_rf.predict(X_train2)\n",
        "y_pred_train_svr = grid_svr.predict(X_train2)\n",
        "y_pred_ensemble_train = (y_pred_train_xgb + y_pred_train_rf + y_pred_train_svr) / 3\n",
        "rmse_ensemble_train = np.sqrt(mean_squared_error(y_train, y_pred_ensemble_train))\n",
        "print(\"RMSE of the ensemble model (training): \", rmse_ensemble_train)\n"
      ],
      "metadata": {
        "colab": {
          "base_uri": "https://localhost:8080/"
        },
        "id": "Jy6_raeODybJ",
        "outputId": "bc03518e-2910-4066-9d13-22fbb0669d41"
      },
      "execution_count": null,
      "outputs": [
        {
          "output_type": "stream",
          "name": "stdout",
          "text": [
            "2/2 [==============================] - 0s 5ms/step\n",
            "8/8 [==============================] - 0s 2ms/step\n",
            "2/2 [==============================] - 0s 5ms/step\n",
            "RMSE of the ensemble model (testing):  40.47592463179632\n",
            "RMSE of the ensemble model (training):  57.61285123060776\n"
          ]
        }
      ]
    },
    {
      "cell_type": "code",
      "source": [
        "model = Sequential()\n",
        "model.add(Dense(64, input_dim=x_train.shape[1], activation='relu'))\n",
        "model.add(Dense(32, activation='relu'))\n",
        "model.add(Dense(1, activation='linear'))\n",
        "model.compile(loss='mean_squared_error', optimizer='adam')\n",
        "# Train the first layer on the training data\n",
        "model.fit(x_train, y_train, epochs=50, batch_size=32, verbose=0)\n",
        "\n",
        "# Use the output of the first layer as input to the second layer\n",
        "y_pred_ann = model.predict(x_test)\n",
        "X_train2 = model.predict(x_train)\n",
        "\n",
        "# Use grid search to tune hyperparameters for the SVR model\n",
        "svr = SVR()\n",
        "param_grid_svr = {'C': [0.01, 0.1, 1, 10], 'epsilon': [0.01, 0.1, 1, 10]}\n",
        "grid_svr = GridSearchCV(svr, param_grid_svr, scoring='neg_mean_squared_error', cv=5)\n",
        "grid_svr.fit(X_train2, y_train)\n",
        "best_svr = grid_svr.best_estimator_\n",
        "\n",
        "# Use grid search to tune hyperparameters for the XGBoost model\n",
        "xgb = XGBRegressor()\n",
        "param_grid_xgb = {'n_estimators': [50, 100, 150], 'max_depth': [3, 4, 5],'learning_rate':[0.1,0.5,0.9]}\n",
        "grid_xgb = GridSearchCV(xgb, param_grid_xgb, scoring='neg_mean_squared_error', cv=5)\n",
        "grid_xgb.fit(X_train2, y_train)\n",
        "best_xgb = grid_xgb.best_estimator_\n",
        "\n",
        "# Use grid search to tune hyperparameters for the Random Forest model\n",
        "rf = RandomForestRegressor()\n",
        "param_grid_rf = {'n_estimators': [50, 100, 150], 'max_depth': [3, 4, 5]}\n",
        "grid_rf = GridSearchCV(rf, param_grid_rf, scoring='neg_mean_squared_error', cv=5)\n",
        "grid_rf.fit(X_train2, y_train)\n",
        "best_rf = grid_rf.best_estimator_\n",
        "\n",
        "\n",
        "# Use the second layer's outputs as input to the Random Forest model\n",
        "X_test2 = model.predict(x_test)\n",
        "y_pred_rf = best_rf.predict(X_test2)\n",
        "\n",
        "# Calculate the root mean squared error of the ensemble model for testing data\n",
        "rmse_ensemble_test = np.sqrt(mean_squared_error(y_test, y_pred_rf))\n",
        "print(\"RMSE of the ensemble model (testing): \", rmse_ensemble_test)\n",
        "\n",
        "# Calculate the root mean squared error of the ensemble model for training data\n",
        "y_pred_train_xgb = best_xgb.predict(X_train2)\n",
        "y_pred_train_rf = best_rf.predict(X_train2)\n",
        "rmse_ensemble_train = np.sqrt(mean_squared_error(y_train, y_pred_train_rf))\n",
        "print(\"RMSE of the ensemble model (training): \", rmse_ensemble_train)"
      ],
      "metadata": {
        "colab": {
          "base_uri": "https://localhost:8080/"
        },
        "id": "tyjs5WjMD7F-",
        "outputId": "840401be-28b2-4661-d376-b6c03e50e07c"
      },
      "execution_count": null,
      "outputs": [
        {
          "output_type": "stream",
          "name": "stdout",
          "text": [
            "2/2 [==============================] - 0s 4ms/step\n",
            "8/8 [==============================] - 0s 2ms/step\n",
            "2/2 [==============================] - 0s 3ms/step\n",
            "RMSE of the ensemble model (testing):  34.27496756783602\n",
            "RMSE of the ensemble model (training):  51.38494826878174\n"
          ]
        }
      ]
    },
    {
      "cell_type": "code",
      "source": [
        "from sklearn.preprocessing import MinMaxScaler\n",
        "# create a MinMaxScaler object\n",
        "scaler = MinMaxScaler()\n",
        "df = pd.DataFrame(scaler.fit_transform(data), columns=data.columns)"
      ],
      "metadata": {
        "id": "HNeZptCq8l9i"
      },
      "execution_count": null,
      "outputs": []
    },
    {
      "cell_type": "code",
      "source": [
        "df = pd.DataFrame(scaler.fit_transform(data), columns=data.columns)"
      ],
      "metadata": {
        "id": "QRNpfidU8FTP"
      },
      "execution_count": null,
      "outputs": []
    },
    {
      "cell_type": "code",
      "source": [
        "df"
      ],
      "metadata": {
        "colab": {
          "base_uri": "https://localhost:8080/",
          "height": 424
        },
        "id": "DFS9g-3j8u6a",
        "outputId": "ee82a151-63fc-4b32-fb8a-18618d824c73"
      },
      "execution_count": null,
      "outputs": [
        {
          "output_type": "execute_result",
          "data": {
            "text/plain": [
              "     D50(mm)   Cu   Cc  N_S, kPa  R_D(%)  P_S_S, kPa\n",
              "0       0.11 0.07 0.34      0.53    1.00        0.37\n",
              "1       0.11 0.07 0.34      0.26    1.00        0.19\n",
              "2       0.11 0.07 0.34      0.13    1.00        0.11\n",
              "3       0.11 0.07 0.34      0.06    1.00        0.05\n",
              "4       0.11 0.07 0.34      0.03    1.00        0.02\n",
              "..       ...  ...  ...       ...     ...         ...\n",
              "304     0.32 0.48 0.11      0.05    1.00        0.07\n",
              "305     0.32 0.48 0.11      0.11    1.00        0.12\n",
              "306     0.32 0.48 0.11      0.22    1.00        0.24\n",
              "307     0.32 0.48 0.11      0.44    1.00        0.41\n",
              "308     0.32 0.48 0.11      0.88    1.00        0.77\n",
              "\n",
              "[309 rows x 6 columns]"
            ],
            "text/html": [
              "\n",
              "  <div id=\"df-075acbea-13aa-49a1-9719-e8d284a3e0c3\">\n",
              "    <div class=\"colab-df-container\">\n",
              "      <div>\n",
              "<style scoped>\n",
              "    .dataframe tbody tr th:only-of-type {\n",
              "        vertical-align: middle;\n",
              "    }\n",
              "\n",
              "    .dataframe tbody tr th {\n",
              "        vertical-align: top;\n",
              "    }\n",
              "\n",
              "    .dataframe thead th {\n",
              "        text-align: right;\n",
              "    }\n",
              "</style>\n",
              "<table border=\"1\" class=\"dataframe\">\n",
              "  <thead>\n",
              "    <tr style=\"text-align: right;\">\n",
              "      <th></th>\n",
              "      <th>D50(mm)</th>\n",
              "      <th>Cu</th>\n",
              "      <th>Cc</th>\n",
              "      <th>N_S, kPa</th>\n",
              "      <th>R_D(%)</th>\n",
              "      <th>P_S_S, kPa</th>\n",
              "    </tr>\n",
              "  </thead>\n",
              "  <tbody>\n",
              "    <tr>\n",
              "      <th>0</th>\n",
              "      <td>0.11</td>\n",
              "      <td>0.07</td>\n",
              "      <td>0.34</td>\n",
              "      <td>0.53</td>\n",
              "      <td>1.00</td>\n",
              "      <td>0.37</td>\n",
              "    </tr>\n",
              "    <tr>\n",
              "      <th>1</th>\n",
              "      <td>0.11</td>\n",
              "      <td>0.07</td>\n",
              "      <td>0.34</td>\n",
              "      <td>0.26</td>\n",
              "      <td>1.00</td>\n",
              "      <td>0.19</td>\n",
              "    </tr>\n",
              "    <tr>\n",
              "      <th>2</th>\n",
              "      <td>0.11</td>\n",
              "      <td>0.07</td>\n",
              "      <td>0.34</td>\n",
              "      <td>0.13</td>\n",
              "      <td>1.00</td>\n",
              "      <td>0.11</td>\n",
              "    </tr>\n",
              "    <tr>\n",
              "      <th>3</th>\n",
              "      <td>0.11</td>\n",
              "      <td>0.07</td>\n",
              "      <td>0.34</td>\n",
              "      <td>0.06</td>\n",
              "      <td>1.00</td>\n",
              "      <td>0.05</td>\n",
              "    </tr>\n",
              "    <tr>\n",
              "      <th>4</th>\n",
              "      <td>0.11</td>\n",
              "      <td>0.07</td>\n",
              "      <td>0.34</td>\n",
              "      <td>0.03</td>\n",
              "      <td>1.00</td>\n",
              "      <td>0.02</td>\n",
              "    </tr>\n",
              "    <tr>\n",
              "      <th>...</th>\n",
              "      <td>...</td>\n",
              "      <td>...</td>\n",
              "      <td>...</td>\n",
              "      <td>...</td>\n",
              "      <td>...</td>\n",
              "      <td>...</td>\n",
              "    </tr>\n",
              "    <tr>\n",
              "      <th>304</th>\n",
              "      <td>0.32</td>\n",
              "      <td>0.48</td>\n",
              "      <td>0.11</td>\n",
              "      <td>0.05</td>\n",
              "      <td>1.00</td>\n",
              "      <td>0.07</td>\n",
              "    </tr>\n",
              "    <tr>\n",
              "      <th>305</th>\n",
              "      <td>0.32</td>\n",
              "      <td>0.48</td>\n",
              "      <td>0.11</td>\n",
              "      <td>0.11</td>\n",
              "      <td>1.00</td>\n",
              "      <td>0.12</td>\n",
              "    </tr>\n",
              "    <tr>\n",
              "      <th>306</th>\n",
              "      <td>0.32</td>\n",
              "      <td>0.48</td>\n",
              "      <td>0.11</td>\n",
              "      <td>0.22</td>\n",
              "      <td>1.00</td>\n",
              "      <td>0.24</td>\n",
              "    </tr>\n",
              "    <tr>\n",
              "      <th>307</th>\n",
              "      <td>0.32</td>\n",
              "      <td>0.48</td>\n",
              "      <td>0.11</td>\n",
              "      <td>0.44</td>\n",
              "      <td>1.00</td>\n",
              "      <td>0.41</td>\n",
              "    </tr>\n",
              "    <tr>\n",
              "      <th>308</th>\n",
              "      <td>0.32</td>\n",
              "      <td>0.48</td>\n",
              "      <td>0.11</td>\n",
              "      <td>0.88</td>\n",
              "      <td>1.00</td>\n",
              "      <td>0.77</td>\n",
              "    </tr>\n",
              "  </tbody>\n",
              "</table>\n",
              "<p>309 rows × 6 columns</p>\n",
              "</div>\n",
              "      <button class=\"colab-df-convert\" onclick=\"convertToInteractive('df-075acbea-13aa-49a1-9719-e8d284a3e0c3')\"\n",
              "              title=\"Convert this dataframe to an interactive table.\"\n",
              "              style=\"display:none;\">\n",
              "        \n",
              "  <svg xmlns=\"http://www.w3.org/2000/svg\" height=\"24px\"viewBox=\"0 0 24 24\"\n",
              "       width=\"24px\">\n",
              "    <path d=\"M0 0h24v24H0V0z\" fill=\"none\"/>\n",
              "    <path d=\"M18.56 5.44l.94 2.06.94-2.06 2.06-.94-2.06-.94-.94-2.06-.94 2.06-2.06.94zm-11 1L8.5 8.5l.94-2.06 2.06-.94-2.06-.94L8.5 2.5l-.94 2.06-2.06.94zm10 10l.94 2.06.94-2.06 2.06-.94-2.06-.94-.94-2.06-.94 2.06-2.06.94z\"/><path d=\"M17.41 7.96l-1.37-1.37c-.4-.4-.92-.59-1.43-.59-.52 0-1.04.2-1.43.59L10.3 9.45l-7.72 7.72c-.78.78-.78 2.05 0 2.83L4 21.41c.39.39.9.59 1.41.59.51 0 1.02-.2 1.41-.59l7.78-7.78 2.81-2.81c.8-.78.8-2.07 0-2.86zM5.41 20L4 18.59l7.72-7.72 1.47 1.35L5.41 20z\"/>\n",
              "  </svg>\n",
              "      </button>\n",
              "      \n",
              "  <style>\n",
              "    .colab-df-container {\n",
              "      display:flex;\n",
              "      flex-wrap:wrap;\n",
              "      gap: 12px;\n",
              "    }\n",
              "\n",
              "    .colab-df-convert {\n",
              "      background-color: #E8F0FE;\n",
              "      border: none;\n",
              "      border-radius: 50%;\n",
              "      cursor: pointer;\n",
              "      display: none;\n",
              "      fill: #1967D2;\n",
              "      height: 32px;\n",
              "      padding: 0 0 0 0;\n",
              "      width: 32px;\n",
              "    }\n",
              "\n",
              "    .colab-df-convert:hover {\n",
              "      background-color: #E2EBFA;\n",
              "      box-shadow: 0px 1px 2px rgba(60, 64, 67, 0.3), 0px 1px 3px 1px rgba(60, 64, 67, 0.15);\n",
              "      fill: #174EA6;\n",
              "    }\n",
              "\n",
              "    [theme=dark] .colab-df-convert {\n",
              "      background-color: #3B4455;\n",
              "      fill: #D2E3FC;\n",
              "    }\n",
              "\n",
              "    [theme=dark] .colab-df-convert:hover {\n",
              "      background-color: #434B5C;\n",
              "      box-shadow: 0px 1px 3px 1px rgba(0, 0, 0, 0.15);\n",
              "      filter: drop-shadow(0px 1px 2px rgba(0, 0, 0, 0.3));\n",
              "      fill: #FFFFFF;\n",
              "    }\n",
              "  </style>\n",
              "\n",
              "      <script>\n",
              "        const buttonEl =\n",
              "          document.querySelector('#df-075acbea-13aa-49a1-9719-e8d284a3e0c3 button.colab-df-convert');\n",
              "        buttonEl.style.display =\n",
              "          google.colab.kernel.accessAllowed ? 'block' : 'none';\n",
              "\n",
              "        async function convertToInteractive(key) {\n",
              "          const element = document.querySelector('#df-075acbea-13aa-49a1-9719-e8d284a3e0c3');\n",
              "          const dataTable =\n",
              "            await google.colab.kernel.invokeFunction('convertToInteractive',\n",
              "                                                     [key], {});\n",
              "          if (!dataTable) return;\n",
              "\n",
              "          const docLinkHtml = 'Like what you see? Visit the ' +\n",
              "            '<a target=\"_blank\" href=https://colab.research.google.com/notebooks/data_table.ipynb>data table notebook</a>'\n",
              "            + ' to learn more about interactive tables.';\n",
              "          element.innerHTML = '';\n",
              "          dataTable['output_type'] = 'display_data';\n",
              "          await google.colab.output.renderOutput(dataTable, element);\n",
              "          const docLink = document.createElement('div');\n",
              "          docLink.innerHTML = docLinkHtml;\n",
              "          element.appendChild(docLink);\n",
              "        }\n",
              "      </script>\n",
              "    </div>\n",
              "  </div>\n",
              "  "
            ]
          },
          "metadata": {},
          "execution_count": 48
        }
      ]
    },
    {
      "cell_type": "code",
      "source": [
        "y= df[\"P_S_S, kPa\"]\n",
        "x = df.drop([\"P_S_S, kPa\"],axis=1)"
      ],
      "metadata": {
        "id": "7a3KqQNv8JZy"
      },
      "execution_count": null,
      "outputs": []
    },
    {
      "cell_type": "code",
      "source": [
        "from sklearn.model_selection import train_test_split\n",
        "x_train, x_test, y_train, y_test = train_test_split(x,y,\n",
        "    test_size=0.2, shuffle = True, random_state = 0)\n",
        "\n",
        "\n",
        "\n",
        "\n",
        "\n",
        "\n",
        "\n",
        "reg = LazyRegressor(verbose=0, ignore_warnings=False, custom_metric=None)\n",
        "models, predictions = reg.fit(x_train, x_test, y_train, y_test)\n",
        "\n",
        "print(models)\n",
        "\n",
        "\n",
        "\n",
        "\n",
        "\n",
        "\n",
        "\n",
        "\n",
        "\n",
        "\n",
        "\n",
        "\n",
        "\n",
        "\n",
        "\n",
        "\n",
        "\n",
        "\n",
        "\n",
        "\n",
        "\n",
        "\n",
        "\n",
        "\n",
        "\n",
        "\n",
        "\n",
        "\n",
        "\n",
        "\n",
        "\n",
        "\n",
        "\n",
        "\n",
        "\n",
        "\n",
        "\n",
        "\n",
        "\n",
        "\n",
        "\n",
        "\n",
        "\n",
        "\n",
        "\n"
      ],
      "metadata": {
        "id": "IwCifbjV84qL"
      },
      "execution_count": null,
      "outputs": []
    },
    {
      "cell_type": "code",
      "source": [
        "from xgboost import XGBRegressor\n",
        "from sklearn.metrics import mean_squared_error as MSE\n",
        "xg = XGBRegressor(objective='reg:squarederror', learning_rate=0.5)\n",
        "xg.fit(x_train,y_train)\n",
        "pred = xg.predict(x_test)\n",
        "pred2= xg.predict(x_train)\n",
        "rmse = np.sqrt(MSE(y_test, pred))\n",
        "print(\"RMSE : % f\" %(rmse))\n",
        "print(np.sqrt(MSE(y_train,pred2)))"
      ],
      "metadata": {
        "colab": {
          "base_uri": "https://localhost:8080/"
        },
        "id": "2I841xfB9FXy",
        "outputId": "722877be-0062-4b5c-c490-a64474c7a11e"
      },
      "execution_count": null,
      "outputs": [
        {
          "output_type": "stream",
          "name": "stdout",
          "text": [
            "RMSE :  0.020044\n",
            "0.003655723676956677\n"
          ]
        }
      ]
    },
    {
      "cell_type": "code",
      "source": [
        "from sklearn.svm import SVR\n",
        "from sklearn.model_selection import train_test_split\n",
        "from sklearn.metrics import mean_squared_error\n",
        "\n",
        "\n",
        "# Create SVR object and fit the training data\n",
        "svr = SVR(kernel='rbf', C=1, epsilon=0.1)\n",
        "svr.fit(x_train, y_train)\n",
        "\n",
        "# Make predictions on the training and test data\n",
        "y_pred_train = svr.predict(x_train)\n",
        "y_pred_test = svr.predict(x_test)\n",
        "\n",
        "# Calculate the root mean squared error for training and test sets\n",
        "rmse_train = mean_squared_error(y_train, y_pred_train, squared=False)\n",
        "rmse_test = mean_squared_error(y_test, y_pred_test, squared=False)\n",
        "\n",
        "print(\"RMSE for training set: \", rmse_train)\n",
        "print(\"RMSE for test set: \", rmse_test)\n"
      ],
      "metadata": {
        "colab": {
          "base_uri": "https://localhost:8080/"
        },
        "id": "nLe5dAAY9ftG",
        "outputId": "a14df2f2-713f-422c-acd7-f7e1067fd00e"
      },
      "execution_count": null,
      "outputs": [
        {
          "output_type": "stream",
          "name": "stdout",
          "text": [
            "RMSE for training set:  0.0802116909157813\n",
            "RMSE for test set:  0.06526701007622177\n"
          ]
        }
      ]
    },
    {
      "cell_type": "code",
      "source": [
        "from sklearn.ensemble import RandomForestRegressor\n",
        "\n",
        "\n",
        "# Create Random Forest Regressor object and fit the training data\n",
        "rf = RandomForestRegressor(n_estimators=100, random_state=42)\n",
        "rf.fit(x_train, y_train)\n",
        "\n",
        "# Make predictions on the training and test data\n",
        "y_pred_train = rf.predict(x_train)\n",
        "y_pred_test = rf.predict(x_test)\n",
        "\n",
        "# Calculate the root mean squared error for training and test sets\n",
        "rmse_train = mean_squared_error(y_train, y_pred_train, squared=False)\n",
        "rmse_test = mean_squared_error(y_test, y_pred_test, squared=False)\n",
        "\n",
        "print(\"RMSE for training set: \", rmse_train)\n",
        "print(\"RMSE for test set: \", rmse_test)"
      ],
      "metadata": {
        "colab": {
          "base_uri": "https://localhost:8080/"
        },
        "id": "YBkfx19f9PgK",
        "outputId": "57ceb956-527c-4661-9413-c27871bd447c"
      },
      "execution_count": null,
      "outputs": [
        {
          "output_type": "stream",
          "name": "stdout",
          "text": [
            "RMSE for training set:  0.019292330726864215\n",
            "RMSE for test set:  0.030668314251379475\n"
          ]
        }
      ]
    },
    {
      "cell_type": "code",
      "source": [
        "import numpy as np\n",
        "from keras.models import Sequential\n",
        "from keras.layers import Dense\n",
        "from sklearn.model_selection import train_test_split\n",
        "from sklearn.metrics import mean_squared_error\n",
        "\n",
        "\n",
        "\n",
        "\n",
        "# Define the model architecture\n",
        "model = Sequential()\n",
        "model.add(Dense(64, input_dim=x_train.shape[1], activation='relu'))\n",
        "model.add(Dense(32, activation='relu'))\n",
        "model.add(Dense(1, activation='linear'))\n",
        "\n",
        "# Compile the model\n",
        "model.compile(loss='mean_squared_error', optimizer='adam')\n",
        "\n",
        "# Train the model on the training data\n",
        "model.fit(x_train, y_train, epochs=50, batch_size=8, verbose=0)\n",
        "\n",
        "# Make predictions on the training and test data\n",
        "y_pred_train = model.predict(x_train)\n",
        "y_pred_test = model.predict(x_test)\n",
        "\n",
        "# Calculate the root mean squared error for training and test sets\n",
        "rmse_train = np.sqrt(mean_squared_error(y_train, y_pred_train))\n",
        "rmse_test = np.sqrt(mean_squared_error(y_test, y_pred_test))\n",
        "\n",
        "print(\"RMSE for training set: \", rmse_train)\n",
        "print(\"RMSE for test set: \", rmse_test)\n"
      ],
      "metadata": {
        "colab": {
          "base_uri": "https://localhost:8080/"
        },
        "outputId": "0b5d00cf-5949-4c84-f9a4-fdb52a5c5a89",
        "id": "1nuHa3fU93Mf"
      },
      "execution_count": null,
      "outputs": [
        {
          "output_type": "stream",
          "name": "stdout",
          "text": [
            "8/8 [==============================] - 1s 4ms/step\n",
            "2/2 [==============================] - 0s 10ms/step\n",
            "RMSE for training set:  0.056613608647415006\n",
            "RMSE for test set:  0.035447827485322964\n"
          ]
        }
      ]
    },
    {
      "cell_type": "code",
      "source": [],
      "metadata": {
        "id": "44hUKo2v9wPn"
      },
      "execution_count": null,
      "outputs": []
    },
    {
      "cell_type": "code",
      "source": [],
      "metadata": {
        "id": "CK2szrDq-Yqy"
      },
      "execution_count": null,
      "outputs": []
    },
    {
      "cell_type": "code",
      "source": [
        "import numpy as np\n",
        "from sklearn.ensemble import RandomForestRegressor\n",
        "from sklearn.svm import SVR\n",
        "from xgboost import XGBRegressor\n",
        "from keras.models import Sequential\n",
        "from keras.layers import Dense\n",
        "from sklearn.model_selection import train_test_split, GridSearchCV\n",
        "from sklearn.metrics import mean_squared_error\n",
        "\n",
        "\n",
        "# Define the architecture of the neural network\n",
        "model = Sequential()\n",
        "model.add(Dense(64, input_dim=x_train.shape[1], activation='relu'))\n",
        "model.add(Dense(32, activation='relu'))\n",
        "model.add(Dense(1, activation='linear'))\n",
        "model.compile(loss='mean_squared_error', optimizer='adam')\n",
        "# Train the first layer on the training data\n",
        "model.fit(x_train, y_train, epochs=50, batch_size=32, verbose=0)\n",
        "\n",
        "# Use the output of the first layer as input to the second layer\n",
        "y_pred_ann = model.predict(x_test)\n",
        "X_train2 = model.predict(x_train)\n",
        "\n",
        "# Use grid search to tune hyperparameters for the SVR model\n",
        "svr = SVR()\n",
        "param_grid_svr = {'C': [0.01, 0.1, 1, 10], 'epsilon': [0.01, 0.1, 1, 10]}\n",
        "grid_svr = GridSearchCV(svr, param_grid_svr, scoring='neg_mean_squared_error', cv=5)\n",
        "grid_svr.fit(X_train2, y_train)\n",
        "best_svr = grid_svr.best_estimator_\n",
        "\n",
        "# Use grid search to tune hyperparameters for the XGBoost model\n",
        "xgb = XGBRegressor()\n",
        "param_grid_xgb = {'n_estimators': [50, 100, 150], 'max_depth': [3, 4, 5],'learning_rate':[0.1,0.5,0.9]}\n",
        "grid_xgb = GridSearchCV(xgb, param_grid_xgb, scoring='neg_mean_squared_error', cv=5)\n",
        "grid_xgb.fit(X_train2, y_train)\n",
        "best_xgb = grid_xgb.best_estimator_\n",
        "\n",
        "# Use grid search to tune hyperparameters for the Random Forest model\n",
        "rf = RandomForestRegressor()\n",
        "param_grid_rf = {'n_estimators': [50, 100, 150], 'max_depth': [3, 4, 5]}\n",
        "grid_rf = GridSearchCV(rf, param_grid_rf, scoring='neg_mean_squared_error', cv=5)\n",
        "grid_rf.fit(X_train2, y_train)\n",
        "best_rf = grid_rf.best_estimator_\n",
        "\n",
        "# Use the second layer's outputs as input to the XGBoost model\n",
        "X_test2 = model.predict(x_test)\n",
        "y_pred_xgb = best_xgb.predict(X_test2)\n",
        "\n",
        "# Use the second layer's outputs as input to the Random Forest model\n",
        "y_pred_rf = best_rf.predict(X_test2)\n",
        "\n",
        "# Combine the predictions of the SVR, XGBoost, and Random Forest models\n",
        "y_pred_ensemble = (y_pred_xgb + y_pred_rf + best_svr.predict(X_test2)) / 3\n",
        "\n",
        "# Calculate the root mean squared error of the ensemble model for testing data\n",
        "rmse_ensemble_test = np.sqrt(mean_squared_error(y_test, y_pred_ensemble))\n",
        "print(\"RMSE of the ensemble model (testing): \", rmse_ensemble_test)\n",
        "\n",
        "y_pred_train_xgb = grid_xgb.predict(X_train2)\n",
        "y_pred_train_rf = grid_rf.predict(X_train2)\n",
        "y_pred_train_svr = grid_svr.predict(X_train2)\n",
        "y_pred_ensemble_train = (y_pred_train_xgb + y_pred_train_rf + y_pred_train_svr) / 3\n",
        "rmse_ensemble_train = np.sqrt(mean_squared_error(y_train, y_pred_ensemble_train))\n",
        "print(\"RMSE of the ensemble model (training): \", rmse_ensemble_train)\n"
      ],
      "metadata": {
        "colab": {
          "base_uri": "https://localhost:8080/"
        },
        "outputId": "70f76de4-4968-4fee-f4a4-58a8362134f2",
        "id": "Kr_IVO05-pJX"
      },
      "execution_count": null,
      "outputs": [
        {
          "output_type": "stream",
          "name": "stdout",
          "text": [
            "2/2 [==============================] - 0s 4ms/step\n",
            "8/8 [==============================] - 0s 2ms/step\n",
            "2/2 [==============================] - 0s 14ms/step\n",
            "RMSE of the ensemble model (testing):  0.03863471612936254\n",
            "RMSE of the ensemble model (training):  0.04937379975328152\n"
          ]
        }
      ]
    },
    {
      "cell_type": "code",
      "source": [
        "model = Sequential()\n",
        "model.add(Dense(64, input_dim=x_train.shape[1], activation='relu'))\n",
        "model.add(Dense(32, activation='relu'))\n",
        "model.add(Dense(1, activation='linear'))\n",
        "model.compile(loss='mean_squared_error', optimizer='adam')\n",
        "# Train the first layer on the training data\n",
        "model.fit(x_train, y_train, epochs=50, batch_size=32, verbose=0)\n",
        "\n",
        "# Use the output of the first layer as input to the second layer\n",
        "y_pred_ann = model.predict(x_test)\n",
        "X_train2 = model.predict(x_train)\n",
        "\n",
        "# Use grid search to tune hyperparameters for the SVR model\n",
        "svr = SVR()\n",
        "param_grid_svr = {'C': [0.01, 0.1, 1, 10], 'epsilon': [0.01, 0.1, 1, 10]}\n",
        "grid_svr = GridSearchCV(svr, param_grid_svr, scoring='neg_mean_squared_error', cv=5)\n",
        "grid_svr.fit(X_train2, y_train)\n",
        "best_svr = grid_svr.best_estimator_\n",
        "\n",
        "# Use grid search to tune hyperparameters for the XGBoost model\n",
        "xgb = XGBRegressor()\n",
        "param_grid_xgb = {'n_estimators': [50, 100, 150], 'max_depth': [3, 4, 5],'learning_rate':[0.1,0.5,0.9]}\n",
        "grid_xgb = GridSearchCV(xgb, param_grid_xgb, scoring='neg_mean_squared_error', cv=5)\n",
        "grid_xgb.fit(X_train2, y_train)\n",
        "best_xgb = grid_xgb.best_estimator_\n",
        "\n",
        "# Use grid search to tune hyperparameters for the Random Forest model\n",
        "rf = RandomForestRegressor()\n",
        "param_grid_rf = {'n_estimators': [50, 100, 150], 'max_depth': [3, 4, 5]}\n",
        "grid_rf = GridSearchCV(rf, param_grid_rf, scoring='neg_mean_squared_error', cv=5)\n",
        "grid_rf.fit(X_train2, y_train)\n",
        "best_rf = grid_rf.best_estimator_\n",
        "\n",
        "\n",
        "# Use the second layer's outputs as input to the Random Forest model\n",
        "X_test2 = model.predict(x_test)\n",
        "y_pred_rf = best_rf.predict(X_test2)\n",
        "\n",
        "# Calculate the root mean squared error of the ensemble model for testing data\n",
        "rmse_ensemble_test = np.sqrt(mean_squared_error(y_test, y_pred_rf))\n",
        "print(\"RMSE of the ensemble model (testing): \", rmse_ensemble_test)\n",
        "\n",
        "# Calculate the root mean squared error of the ensemble model for training data\n",
        "y_pred_train_xgb = best_xgb.predict(X_train2)\n",
        "y_pred_train_rf = best_rf.predict(X_train2)\n",
        "rmse_ensemble_train = np.sqrt(mean_squared_error(y_train, y_pred_train_rf))\n",
        "print(\"RMSE of the ensemble model (training): \", rmse_ensemble_train)"
      ],
      "metadata": {
        "colab": {
          "base_uri": "https://localhost:8080/"
        },
        "outputId": "d439a384-e71d-410d-d60e-45ac64edd497",
        "id": "MT8Oe5kQ-YtC"
      },
      "execution_count": null,
      "outputs": [
        {
          "output_type": "stream",
          "name": "stdout",
          "text": [
            "2/2 [==============================] - 0s 9ms/step\n",
            "8/8 [==============================] - 0s 7ms/step\n",
            "2/2 [==============================] - 0s 5ms/step\n",
            "RMSE of the ensemble model (testing):  0.031152348845510113\n",
            "RMSE of the ensemble model (training):  0.05580409771733075\n"
          ]
        }
      ]
    },
    {
      "cell_type": "code",
      "source": [
        "data.describe()\n"
      ],
      "metadata": {
        "colab": {
          "base_uri": "https://localhost:8080/",
          "height": 300
        },
        "id": "xrNoJC7U3qcB",
        "outputId": "03705585-eb53-4c08-bb04-5d963b8c456e"
      },
      "execution_count": null,
      "outputs": [
        {
          "output_type": "execute_result",
          "data": {
            "text/plain": [
              "       D50(mm)     Cu     Cc  N_S, kPa  R_D(%)  P_S_S, kPa\n",
              "count   309.00 309.00 309.00    309.00  309.00      309.00\n",
              "mean      0.56   4.01   1.04    136.90    2.34      121.44\n",
              "std       0.41   2.71   0.29    157.03    0.92      131.63\n",
              "min       0.09   1.07   0.34      4.00    1.00        2.20\n",
              "25%       0.25   2.20   0.91     40.00    1.00       33.90\n",
              "50%       0.44   3.12   1.00    100.00    3.00       78.50\n",
              "75%       0.81   5.50   1.12    200.00    3.00      152.80\n",
              "max       2.18  15.20   2.03    910.00    3.00      800.40"
            ],
            "text/html": [
              "\n",
              "  <div id=\"df-8b7bf6ec-dfef-4381-b1f1-87511cb34abb\">\n",
              "    <div class=\"colab-df-container\">\n",
              "      <div>\n",
              "<style scoped>\n",
              "    .dataframe tbody tr th:only-of-type {\n",
              "        vertical-align: middle;\n",
              "    }\n",
              "\n",
              "    .dataframe tbody tr th {\n",
              "        vertical-align: top;\n",
              "    }\n",
              "\n",
              "    .dataframe thead th {\n",
              "        text-align: right;\n",
              "    }\n",
              "</style>\n",
              "<table border=\"1\" class=\"dataframe\">\n",
              "  <thead>\n",
              "    <tr style=\"text-align: right;\">\n",
              "      <th></th>\n",
              "      <th>D50(mm)</th>\n",
              "      <th>Cu</th>\n",
              "      <th>Cc</th>\n",
              "      <th>N_S, kPa</th>\n",
              "      <th>R_D(%)</th>\n",
              "      <th>P_S_S, kPa</th>\n",
              "    </tr>\n",
              "  </thead>\n",
              "  <tbody>\n",
              "    <tr>\n",
              "      <th>count</th>\n",
              "      <td>309.00</td>\n",
              "      <td>309.00</td>\n",
              "      <td>309.00</td>\n",
              "      <td>309.00</td>\n",
              "      <td>309.00</td>\n",
              "      <td>309.00</td>\n",
              "    </tr>\n",
              "    <tr>\n",
              "      <th>mean</th>\n",
              "      <td>0.56</td>\n",
              "      <td>4.01</td>\n",
              "      <td>1.04</td>\n",
              "      <td>136.90</td>\n",
              "      <td>2.34</td>\n",
              "      <td>121.44</td>\n",
              "    </tr>\n",
              "    <tr>\n",
              "      <th>std</th>\n",
              "      <td>0.41</td>\n",
              "      <td>2.71</td>\n",
              "      <td>0.29</td>\n",
              "      <td>157.03</td>\n",
              "      <td>0.92</td>\n",
              "      <td>131.63</td>\n",
              "    </tr>\n",
              "    <tr>\n",
              "      <th>min</th>\n",
              "      <td>0.09</td>\n",
              "      <td>1.07</td>\n",
              "      <td>0.34</td>\n",
              "      <td>4.00</td>\n",
              "      <td>1.00</td>\n",
              "      <td>2.20</td>\n",
              "    </tr>\n",
              "    <tr>\n",
              "      <th>25%</th>\n",
              "      <td>0.25</td>\n",
              "      <td>2.20</td>\n",
              "      <td>0.91</td>\n",
              "      <td>40.00</td>\n",
              "      <td>1.00</td>\n",
              "      <td>33.90</td>\n",
              "    </tr>\n",
              "    <tr>\n",
              "      <th>50%</th>\n",
              "      <td>0.44</td>\n",
              "      <td>3.12</td>\n",
              "      <td>1.00</td>\n",
              "      <td>100.00</td>\n",
              "      <td>3.00</td>\n",
              "      <td>78.50</td>\n",
              "    </tr>\n",
              "    <tr>\n",
              "      <th>75%</th>\n",
              "      <td>0.81</td>\n",
              "      <td>5.50</td>\n",
              "      <td>1.12</td>\n",
              "      <td>200.00</td>\n",
              "      <td>3.00</td>\n",
              "      <td>152.80</td>\n",
              "    </tr>\n",
              "    <tr>\n",
              "      <th>max</th>\n",
              "      <td>2.18</td>\n",
              "      <td>15.20</td>\n",
              "      <td>2.03</td>\n",
              "      <td>910.00</td>\n",
              "      <td>3.00</td>\n",
              "      <td>800.40</td>\n",
              "    </tr>\n",
              "  </tbody>\n",
              "</table>\n",
              "</div>\n",
              "      <button class=\"colab-df-convert\" onclick=\"convertToInteractive('df-8b7bf6ec-dfef-4381-b1f1-87511cb34abb')\"\n",
              "              title=\"Convert this dataframe to an interactive table.\"\n",
              "              style=\"display:none;\">\n",
              "        \n",
              "  <svg xmlns=\"http://www.w3.org/2000/svg\" height=\"24px\"viewBox=\"0 0 24 24\"\n",
              "       width=\"24px\">\n",
              "    <path d=\"M0 0h24v24H0V0z\" fill=\"none\"/>\n",
              "    <path d=\"M18.56 5.44l.94 2.06.94-2.06 2.06-.94-2.06-.94-.94-2.06-.94 2.06-2.06.94zm-11 1L8.5 8.5l.94-2.06 2.06-.94-2.06-.94L8.5 2.5l-.94 2.06-2.06.94zm10 10l.94 2.06.94-2.06 2.06-.94-2.06-.94-.94-2.06-.94 2.06-2.06.94z\"/><path d=\"M17.41 7.96l-1.37-1.37c-.4-.4-.92-.59-1.43-.59-.52 0-1.04.2-1.43.59L10.3 9.45l-7.72 7.72c-.78.78-.78 2.05 0 2.83L4 21.41c.39.39.9.59 1.41.59.51 0 1.02-.2 1.41-.59l7.78-7.78 2.81-2.81c.8-.78.8-2.07 0-2.86zM5.41 20L4 18.59l7.72-7.72 1.47 1.35L5.41 20z\"/>\n",
              "  </svg>\n",
              "      </button>\n",
              "      \n",
              "  <style>\n",
              "    .colab-df-container {\n",
              "      display:flex;\n",
              "      flex-wrap:wrap;\n",
              "      gap: 12px;\n",
              "    }\n",
              "\n",
              "    .colab-df-convert {\n",
              "      background-color: #E8F0FE;\n",
              "      border: none;\n",
              "      border-radius: 50%;\n",
              "      cursor: pointer;\n",
              "      display: none;\n",
              "      fill: #1967D2;\n",
              "      height: 32px;\n",
              "      padding: 0 0 0 0;\n",
              "      width: 32px;\n",
              "    }\n",
              "\n",
              "    .colab-df-convert:hover {\n",
              "      background-color: #E2EBFA;\n",
              "      box-shadow: 0px 1px 2px rgba(60, 64, 67, 0.3), 0px 1px 3px 1px rgba(60, 64, 67, 0.15);\n",
              "      fill: #174EA6;\n",
              "    }\n",
              "\n",
              "    [theme=dark] .colab-df-convert {\n",
              "      background-color: #3B4455;\n",
              "      fill: #D2E3FC;\n",
              "    }\n",
              "\n",
              "    [theme=dark] .colab-df-convert:hover {\n",
              "      background-color: #434B5C;\n",
              "      box-shadow: 0px 1px 3px 1px rgba(0, 0, 0, 0.15);\n",
              "      filter: drop-shadow(0px 1px 2px rgba(0, 0, 0, 0.3));\n",
              "      fill: #FFFFFF;\n",
              "    }\n",
              "  </style>\n",
              "\n",
              "      <script>\n",
              "        const buttonEl =\n",
              "          document.querySelector('#df-8b7bf6ec-dfef-4381-b1f1-87511cb34abb button.colab-df-convert');\n",
              "        buttonEl.style.display =\n",
              "          google.colab.kernel.accessAllowed ? 'block' : 'none';\n",
              "\n",
              "        async function convertToInteractive(key) {\n",
              "          const element = document.querySelector('#df-8b7bf6ec-dfef-4381-b1f1-87511cb34abb');\n",
              "          const dataTable =\n",
              "            await google.colab.kernel.invokeFunction('convertToInteractive',\n",
              "                                                     [key], {});\n",
              "          if (!dataTable) return;\n",
              "\n",
              "          const docLinkHtml = 'Like what you see? Visit the ' +\n",
              "            '<a target=\"_blank\" href=https://colab.research.google.com/notebooks/data_table.ipynb>data table notebook</a>'\n",
              "            + ' to learn more about interactive tables.';\n",
              "          element.innerHTML = '';\n",
              "          dataTable['output_type'] = 'display_data';\n",
              "          await google.colab.output.renderOutput(dataTable, element);\n",
              "          const docLink = document.createElement('div');\n",
              "          docLink.innerHTML = docLinkHtml;\n",
              "          element.appendChild(docLink);\n",
              "        }\n",
              "      </script>\n",
              "    </div>\n",
              "  </div>\n",
              "  "
            ]
          },
          "metadata": {},
          "execution_count": 7
        }
      ]
    },
    {
      "cell_type": "code",
      "source": [
        "import pandas as pd\n",
        "import seaborn as sb\n",
        "from scipy.stats import pearsonr\n",
        "import matplotlib.pyplot as plt\n",
        "plt.figure(figsize = (13,9))\n",
        "svm=sb.heatmap(data.corr(method='spearman',min_periods=100),annot=True,cmap='Blues',xticklabels=True, yticklabels=True,annot_kws={\"size\": 15})\n",
        "figure = svm.get_figure()\n",
        "sb.set_context(font_scale=10)\n",
        "sb.set(font_scale=1.8)\n",
        "plt.show()"
      ],
      "metadata": {
        "colab": {
          "base_uri": "https://localhost:8080/",
          "height": 759
        },
        "id": "KSvWtqKQIZLE",
        "outputId": "b69a2ac9-5ddc-45ee-f5f5-68b48898cf92"
      },
      "execution_count": null,
      "outputs": [
        {
          "output_type": "display_data",
          "data": {
            "text/plain": [
              "<Figure size 1300x900 with 2 Axes>"
            ],
            "image/png": "[encoded data removed]"
          },
          "metadata": {}
        }
      ]
    },
    {
      "cell_type": "code",
      "source": [
        "data.columns =['D50(mm)','Cu','Cc','N_S(kPa)', 'R_D(%)', 'P_S_S(kPa)']\n",
        "plt.figure(figsize = (12,8))\n",
        "svm=sb.heatmap(data.corr(method='pearson',min_periods=100),annot=True,cmap='Blues',xticklabels=True, yticklabels=True,annot_kws={\"size\": 14})\n",
        "figure = svm.get_figure()\n",
        "sb.set_context(font_scale=10)\n",
        "sb.set(font_scale=1.5)\n",
        "plt.show()\n",
        "\n",
        "figure.savefig('heat_map_excluding_box.png', dpi=1000)"
      ],
      "metadata": {
        "colab": {
          "base_uri": "https://localhost:8080/",
          "height": 611
        },
        "id": "gjt4yN0TS5Ff",
        "outputId": "8deb096c-422e-4866-c3b7-1a5451ef8afe"
      },
      "execution_count": null,
      "outputs": [
        {
          "output_type": "display_data",
          "data": {
            "text/plain": [
              "<Figure size 1200x800 with 2 Axes>"
            ],
            "image/png": "[encoded data removed]"
          },
          "metadata": {}
        }
      ]
    },
    {
      "cell_type": "code",
      "source": [
        "data"
      ],
      "metadata": {
        "colab": {
          "base_uri": "https://localhost:8080/",
          "height": 424
        },
        "id": "WmSaudyHWrcd",
        "outputId": "b45ea905-f400-444a-f910-3e35ad043b9a"
      },
      "execution_count": null,
      "outputs": [
        {
          "output_type": "execute_result",
          "data": {
            "text/plain": [
              "     D50(mm)   Cu   Cc  N_S, kPa  R_D(%)  P_S_S, kPa\n",
              "0       0.31 2.06 0.92    480.00       3      300.50\n",
              "1       0.31 2.06 0.92    240.00       3      156.50\n",
              "2       0.31 2.06 0.92    120.00       3       88.10\n",
              "3       0.31 2.06 0.92     60.00       3       43.70\n",
              "4       0.31 2.06 0.92     30.00       3       18.20\n",
              "..       ...  ...  ...       ...     ...         ...\n",
              "304     0.75 7.86 0.53     50.00       3       58.40\n",
              "305     0.75 7.86 0.53    100.00       3      100.30\n",
              "306     0.75 7.86 0.53    200.00       3      190.80\n",
              "307     0.75 7.86 0.53    400.00       3      331.00\n",
              "308     0.75 7.86 0.53    800.00       3      613.40\n",
              "\n",
              "[309 rows x 6 columns]"
            ],
            "text/html": [
              "\n",
              "  <div id=\"df-a375d7ea-9b38-4ad1-bca4-76e3c758d7a2\">\n",
              "    <div class=\"colab-df-container\">\n",
              "      <div>\n",
              "<style scoped>\n",
              "    .dataframe tbody tr th:only-of-type {\n",
              "        vertical-align: middle;\n",
              "    }\n",
              "\n",
              "    .dataframe tbody tr th {\n",
              "        vertical-align: top;\n",
              "    }\n",
              "\n",
              "    .dataframe thead th {\n",
              "        text-align: right;\n",
              "    }\n",
              "</style>\n",
              "<table border=\"1\" class=\"dataframe\">\n",
              "  <thead>\n",
              "    <tr style=\"text-align: right;\">\n",
              "      <th></th>\n",
              "      <th>D50(mm)</th>\n",
              "      <th>Cu</th>\n",
              "      <th>Cc</th>\n",
              "      <th>N_S, kPa</th>\n",
              "      <th>R_D(%)</th>\n",
              "      <th>P_S_S, kPa</th>\n",
              "    </tr>\n",
              "  </thead>\n",
              "  <tbody>\n",
              "    <tr>\n",
              "      <th>0</th>\n",
              "      <td>0.31</td>\n",
              "      <td>2.06</td>\n",
              "      <td>0.92</td>\n",
              "      <td>480.00</td>\n",
              "      <td>3</td>\n",
              "      <td>300.50</td>\n",
              "    </tr>\n",
              "    <tr>\n",
              "      <th>1</th>\n",
              "      <td>0.31</td>\n",
              "      <td>2.06</td>\n",
              "      <td>0.92</td>\n",
              "      <td>240.00</td>\n",
              "      <td>3</td>\n",
              "      <td>156.50</td>\n",
              "    </tr>\n",
              "    <tr>\n",
              "      <th>2</th>\n",
              "      <td>0.31</td>\n",
              "      <td>2.06</td>\n",
              "      <td>0.92</td>\n",
              "      <td>120.00</td>\n",
              "      <td>3</td>\n",
              "      <td>88.10</td>\n",
              "    </tr>\n",
              "    <tr>\n",
              "      <th>3</th>\n",
              "      <td>0.31</td>\n",
              "      <td>2.06</td>\n",
              "      <td>0.92</td>\n",
              "      <td>60.00</td>\n",
              "      <td>3</td>\n",
              "      <td>43.70</td>\n",
              "    </tr>\n",
              "    <tr>\n",
              "      <th>4</th>\n",
              "      <td>0.31</td>\n",
              "      <td>2.06</td>\n",
              "      <td>0.92</td>\n",
              "      <td>30.00</td>\n",
              "      <td>3</td>\n",
              "      <td>18.20</td>\n",
              "    </tr>\n",
              "    <tr>\n",
              "      <th>...</th>\n",
              "      <td>...</td>\n",
              "      <td>...</td>\n",
              "      <td>...</td>\n",
              "      <td>...</td>\n",
              "      <td>...</td>\n",
              "      <td>...</td>\n",
              "    </tr>\n",
              "    <tr>\n",
              "      <th>304</th>\n",
              "      <td>0.75</td>\n",
              "      <td>7.86</td>\n",
              "      <td>0.53</td>\n",
              "      <td>50.00</td>\n",
              "      <td>3</td>\n",
              "      <td>58.40</td>\n",
              "    </tr>\n",
              "    <tr>\n",
              "      <th>305</th>\n",
              "      <td>0.75</td>\n",
              "      <td>7.86</td>\n",
              "      <td>0.53</td>\n",
              "      <td>100.00</td>\n",
              "      <td>3</td>\n",
              "      <td>100.30</td>\n",
              "    </tr>\n",
              "    <tr>\n",
              "      <th>306</th>\n",
              "      <td>0.75</td>\n",
              "      <td>7.86</td>\n",
              "      <td>0.53</td>\n",
              "      <td>200.00</td>\n",
              "      <td>3</td>\n",
              "      <td>190.80</td>\n",
              "    </tr>\n",
              "    <tr>\n",
              "      <th>307</th>\n",
              "      <td>0.75</td>\n",
              "      <td>7.86</td>\n",
              "      <td>0.53</td>\n",
              "      <td>400.00</td>\n",
              "      <td>3</td>\n",
              "      <td>331.00</td>\n",
              "    </tr>\n",
              "    <tr>\n",
              "      <th>308</th>\n",
              "      <td>0.75</td>\n",
              "      <td>7.86</td>\n",
              "      <td>0.53</td>\n",
              "      <td>800.00</td>\n",
              "      <td>3</td>\n",
              "      <td>613.40</td>\n",
              "    </tr>\n",
              "  </tbody>\n",
              "</table>\n",
              "<p>309 rows × 6 columns</p>\n",
              "</div>\n",
              "      <button class=\"colab-df-convert\" onclick=\"convertToInteractive('df-a375d7ea-9b38-4ad1-bca4-76e3c758d7a2')\"\n",
              "              title=\"Convert this dataframe to an interactive table.\"\n",
              "              style=\"display:none;\">\n",
              "        \n",
              "  <svg xmlns=\"http://www.w3.org/2000/svg\" height=\"24px\"viewBox=\"0 0 24 24\"\n",
              "       width=\"24px\">\n",
              "    <path d=\"M0 0h24v24H0V0z\" fill=\"none\"/>\n",
              "    <path d=\"M18.56 5.44l.94 2.06.94-2.06 2.06-.94-2.06-.94-.94-2.06-.94 2.06-2.06.94zm-11 1L8.5 8.5l.94-2.06 2.06-.94-2.06-.94L8.5 2.5l-.94 2.06-2.06.94zm10 10l.94 2.06.94-2.06 2.06-.94-2.06-.94-.94-2.06-.94 2.06-2.06.94z\"/><path d=\"M17.41 7.96l-1.37-1.37c-.4-.4-.92-.59-1.43-.59-.52 0-1.04.2-1.43.59L10.3 9.45l-7.72 7.72c-.78.78-.78 2.05 0 2.83L4 21.41c.39.39.9.59 1.41.59.51 0 1.02-.2 1.41-.59l7.78-7.78 2.81-2.81c.8-.78.8-2.07 0-2.86zM5.41 20L4 18.59l7.72-7.72 1.47 1.35L5.41 20z\"/>\n",
              "  </svg>\n",
              "      </button>\n",
              "      \n",
              "  <style>\n",
              "    .colab-df-container {\n",
              "      display:flex;\n",
              "      flex-wrap:wrap;\n",
              "      gap: 12px;\n",
              "    }\n",
              "\n",
              "    .colab-df-convert {\n",
              "      background-color: #E8F0FE;\n",
              "      border: none;\n",
              "      border-radius: 50%;\n",
              "      cursor: pointer;\n",
              "      display: none;\n",
              "      fill: #1967D2;\n",
              "      height: 32px;\n",
              "      padding: 0 0 0 0;\n",
              "      width: 32px;\n",
              "    }\n",
              "\n",
              "    .colab-df-convert:hover {\n",
              "      background-color: #E2EBFA;\n",
              "      box-shadow: 0px 1px 2px rgba(60, 64, 67, 0.3), 0px 1px 3px 1px rgba(60, 64, 67, 0.15);\n",
              "      fill: #174EA6;\n",
              "    }\n",
              "\n",
              "    [theme=dark] .colab-df-convert {\n",
              "      background-color: #3B4455;\n",
              "      fill: #D2E3FC;\n",
              "    }\n",
              "\n",
              "    [theme=dark] .colab-df-convert:hover {\n",
              "      background-color: #434B5C;\n",
              "      box-shadow: 0px 1px 3px 1px rgba(0, 0, 0, 0.15);\n",
              "      filter: drop-shadow(0px 1px 2px rgba(0, 0, 0, 0.3));\n",
              "      fill: #FFFFFF;\n",
              "    }\n",
              "  </style>\n",
              "\n",
              "      <script>\n",
              "        const buttonEl =\n",
              "          document.querySelector('#df-a375d7ea-9b38-4ad1-bca4-76e3c758d7a2 button.colab-df-convert');\n",
              "        buttonEl.style.display =\n",
              "          google.colab.kernel.accessAllowed ? 'block' : 'none';\n",
              "\n",
              "        async function convertToInteractive(key) {\n",
              "          const element = document.querySelector('#df-a375d7ea-9b38-4ad1-bca4-76e3c758d7a2');\n",
              "          const dataTable =\n",
              "            await google.colab.kernel.invokeFunction('convertToInteractive',\n",
              "                                                     [key], {});\n",
              "          if (!dataTable) return;\n",
              "\n",
              "          const docLinkHtml = 'Like what you see? Visit the ' +\n",
              "            '<a target=\"_blank\" href=https://colab.research.google.com/notebooks/data_table.ipynb>data table notebook</a>'\n",
              "            + ' to learn more about interactive tables.';\n",
              "          element.innerHTML = '';\n",
              "          dataTable['output_type'] = 'display_data';\n",
              "          await google.colab.output.renderOutput(dataTable, element);\n",
              "          const docLink = document.createElement('div');\n",
              "          docLink.innerHTML = docLinkHtml;\n",
              "          element.appendChild(docLink);\n",
              "        }\n",
              "      </script>\n",
              "    </div>\n",
              "  </div>\n",
              "  "
            ]
          },
          "metadata": {},
          "execution_count": 10
        }
      ]
    },
    {
      "cell_type": "code",
      "source": [
        "import numpy as np\n",
        "\n",
        "\n",
        "# calculate mean and standard deviation of the data\n",
        "mean = np.mean(data, axis=0)\n",
        "std_dev = np.std(data, axis=0)\n",
        "\n",
        "# normalize the df using Z-score normalization\n",
        "normalized_df = (data - mean) / std_dev\n",
        "\n",
        "print(normalized_df)\n"
      ],
      "metadata": {
        "colab": {
          "base_uri": "https://localhost:8080/"
        },
        "id": "cfMrIHYuWfl3",
        "outputId": "cab01131-2c2c-44d5-84db-0d635ac2b2dc"
      },
      "execution_count": null,
      "outputs": [
        {
          "output_type": "stream",
          "name": "stdout",
          "text": [
            "     D50(mm)    Cu    Cc  N_S, kPa  R_D(%)  P_S_S, kPa\n",
            "0      -0.62 -0.72 -0.40      2.19    0.72        1.36\n",
            "1      -0.62 -0.72 -0.40      0.66    0.72        0.27\n",
            "2      -0.62 -0.72 -0.40     -0.11    0.72       -0.25\n",
            "3      -0.62 -0.72 -0.40     -0.49    0.72       -0.59\n",
            "4      -0.62 -0.72 -0.40     -0.68    0.72       -0.79\n",
            "..       ...   ...   ...       ...     ...         ...\n",
            "304     0.47  1.42 -1.75     -0.55    0.72       -0.48\n",
            "305     0.47  1.42 -1.75     -0.24    0.72       -0.16\n",
            "306     0.47  1.42 -1.75      0.40    0.72        0.53\n",
            "307     0.47  1.42 -1.75      1.68    0.72        1.59\n",
            "308     0.47  1.42 -1.75      4.23    0.72        3.74\n",
            "\n",
            "[309 rows x 6 columns]\n"
          ]
        }
      ]
    },
    {
      "cell_type": "code",
      "source": [
        "data"
      ],
      "metadata": {
        "colab": {
          "base_uri": "https://localhost:8080/",
          "height": 424
        },
        "id": "8lnpeIbcJI3N",
        "outputId": "386e3745-e2f4-4c2e-81e7-60f5e8d3a5be"
      },
      "execution_count": null,
      "outputs": [
        {
          "output_type": "execute_result",
          "data": {
            "text/plain": [
              "     D50(mm)    Cu    Cc  N_S, kPa  R_D(%)  P_S_S, kPa\n",
              "0       0.31  2.06  0.92     480.0       3       300.5\n",
              "1       0.31  2.06  0.92     240.0       3       156.5\n",
              "2       0.31  2.06  0.92     120.0       3        88.1\n",
              "3       0.31  2.06  0.92      60.0       3        43.7\n",
              "4       0.31  2.06  0.92      30.0       3        18.2\n",
              "..       ...   ...   ...       ...     ...         ...\n",
              "304     0.75  7.86  0.53      50.0       3        58.4\n",
              "305     0.75  7.86  0.53     100.0       3       100.3\n",
              "306     0.75  7.86  0.53     200.0       3       190.8\n",
              "307     0.75  7.86  0.53     400.0       3       331.0\n",
              "308     0.75  7.86  0.53     800.0       3       613.4\n",
              "\n",
              "[309 rows x 6 columns]"
            ],
            "text/html": [
              "\n",
              "  <div id=\"df-ad1199b4-122f-484a-b258-f99d1510bde8\">\n",
              "    <div class=\"colab-df-container\">\n",
              "      <div>\n",
              "<style scoped>\n",
              "    .dataframe tbody tr th:only-of-type {\n",
              "        vertical-align: middle;\n",
              "    }\n",
              "\n",
              "    .dataframe tbody tr th {\n",
              "        vertical-align: top;\n",
              "    }\n",
              "\n",
              "    .dataframe thead th {\n",
              "        text-align: right;\n",
              "    }\n",
              "</style>\n",
              "<table border=\"1\" class=\"dataframe\">\n",
              "  <thead>\n",
              "    <tr style=\"text-align: right;\">\n",
              "      <th></th>\n",
              "      <th>D50(mm)</th>\n",
              "      <th>Cu</th>\n",
              "      <th>Cc</th>\n",
              "      <th>N_S, kPa</th>\n",
              "      <th>R_D(%)</th>\n",
              "      <th>P_S_S, kPa</th>\n",
              "    </tr>\n",
              "  </thead>\n",
              "  <tbody>\n",
              "    <tr>\n",
              "      <th>0</th>\n",
              "      <td>0.31</td>\n",
              "      <td>2.06</td>\n",
              "      <td>0.92</td>\n",
              "      <td>480.0</td>\n",
              "      <td>3</td>\n",
              "      <td>300.5</td>\n",
              "    </tr>\n",
              "    <tr>\n",
              "      <th>1</th>\n",
              "      <td>0.31</td>\n",
              "      <td>2.06</td>\n",
              "      <td>0.92</td>\n",
              "      <td>240.0</td>\n",
              "      <td>3</td>\n",
              "      <td>156.5</td>\n",
              "    </tr>\n",
              "    <tr>\n",
              "      <th>2</th>\n",
              "      <td>0.31</td>\n",
              "      <td>2.06</td>\n",
              "      <td>0.92</td>\n",
              "      <td>120.0</td>\n",
              "      <td>3</td>\n",
              "      <td>88.1</td>\n",
              "    </tr>\n",
              "    <tr>\n",
              "      <th>3</th>\n",
              "      <td>0.31</td>\n",
              "      <td>2.06</td>\n",
              "      <td>0.92</td>\n",
              "      <td>60.0</td>\n",
              "      <td>3</td>\n",
              "      <td>43.7</td>\n",
              "    </tr>\n",
              "    <tr>\n",
              "      <th>4</th>\n",
              "      <td>0.31</td>\n",
              "      <td>2.06</td>\n",
              "      <td>0.92</td>\n",
              "      <td>30.0</td>\n",
              "      <td>3</td>\n",
              "      <td>18.2</td>\n",
              "    </tr>\n",
              "    <tr>\n",
              "      <th>...</th>\n",
              "      <td>...</td>\n",
              "      <td>...</td>\n",
              "      <td>...</td>\n",
              "      <td>...</td>\n",
              "      <td>...</td>\n",
              "      <td>...</td>\n",
              "    </tr>\n",
              "    <tr>\n",
              "      <th>304</th>\n",
              "      <td>0.75</td>\n",
              "      <td>7.86</td>\n",
              "      <td>0.53</td>\n",
              "      <td>50.0</td>\n",
              "      <td>3</td>\n",
              "      <td>58.4</td>\n",
              "    </tr>\n",
              "    <tr>\n",
              "      <th>305</th>\n",
              "      <td>0.75</td>\n",
              "      <td>7.86</td>\n",
              "      <td>0.53</td>\n",
              "      <td>100.0</td>\n",
              "      <td>3</td>\n",
              "      <td>100.3</td>\n",
              "    </tr>\n",
              "    <tr>\n",
              "      <th>306</th>\n",
              "      <td>0.75</td>\n",
              "      <td>7.86</td>\n",
              "      <td>0.53</td>\n",
              "      <td>200.0</td>\n",
              "      <td>3</td>\n",
              "      <td>190.8</td>\n",
              "    </tr>\n",
              "    <tr>\n",
              "      <th>307</th>\n",
              "      <td>0.75</td>\n",
              "      <td>7.86</td>\n",
              "      <td>0.53</td>\n",
              "      <td>400.0</td>\n",
              "      <td>3</td>\n",
              "      <td>331.0</td>\n",
              "    </tr>\n",
              "    <tr>\n",
              "      <th>308</th>\n",
              "      <td>0.75</td>\n",
              "      <td>7.86</td>\n",
              "      <td>0.53</td>\n",
              "      <td>800.0</td>\n",
              "      <td>3</td>\n",
              "      <td>613.4</td>\n",
              "    </tr>\n",
              "  </tbody>\n",
              "</table>\n",
              "<p>309 rows × 6 columns</p>\n",
              "</div>\n",
              "      <button class=\"colab-df-convert\" onclick=\"convertToInteractive('df-ad1199b4-122f-484a-b258-f99d1510bde8')\"\n",
              "              title=\"Convert this dataframe to an interactive table.\"\n",
              "              style=\"display:none;\">\n",
              "        \n",
              "  <svg xmlns=\"http://www.w3.org/2000/svg\" height=\"24px\"viewBox=\"0 0 24 24\"\n",
              "       width=\"24px\">\n",
              "    <path d=\"M0 0h24v24H0V0z\" fill=\"none\"/>\n",
              "    <path d=\"M18.56 5.44l.94 2.06.94-2.06 2.06-.94-2.06-.94-.94-2.06-.94 2.06-2.06.94zm-11 1L8.5 8.5l.94-2.06 2.06-.94-2.06-.94L8.5 2.5l-.94 2.06-2.06.94zm10 10l.94 2.06.94-2.06 2.06-.94-2.06-.94-.94-2.06-.94 2.06-2.06.94z\"/><path d=\"M17.41 7.96l-1.37-1.37c-.4-.4-.92-.59-1.43-.59-.52 0-1.04.2-1.43.59L10.3 9.45l-7.72 7.72c-.78.78-.78 2.05 0 2.83L4 21.41c.39.39.9.59 1.41.59.51 0 1.02-.2 1.41-.59l7.78-7.78 2.81-2.81c.8-.78.8-2.07 0-2.86zM5.41 20L4 18.59l7.72-7.72 1.47 1.35L5.41 20z\"/>\n",
              "  </svg>\n",
              "      </button>\n",
              "      \n",
              "  <style>\n",
              "    .colab-df-container {\n",
              "      display:flex;\n",
              "      flex-wrap:wrap;\n",
              "      gap: 12px;\n",
              "    }\n",
              "\n",
              "    .colab-df-convert {\n",
              "      background-color: #E8F0FE;\n",
              "      border: none;\n",
              "      border-radius: 50%;\n",
              "      cursor: pointer;\n",
              "      display: none;\n",
              "      fill: #1967D2;\n",
              "      height: 32px;\n",
              "      padding: 0 0 0 0;\n",
              "      width: 32px;\n",
              "    }\n",
              "\n",
              "    .colab-df-convert:hover {\n",
              "      background-color: #E2EBFA;\n",
              "      box-shadow: 0px 1px 2px rgba(60, 64, 67, 0.3), 0px 1px 3px 1px rgba(60, 64, 67, 0.15);\n",
              "      fill: #174EA6;\n",
              "    }\n",
              "\n",
              "    [theme=dark] .colab-df-convert {\n",
              "      background-color: #3B4455;\n",
              "      fill: #D2E3FC;\n",
              "    }\n",
              "\n",
              "    [theme=dark] .colab-df-convert:hover {\n",
              "      background-color: #434B5C;\n",
              "      box-shadow: 0px 1px 3px 1px rgba(0, 0, 0, 0.15);\n",
              "      filter: drop-shadow(0px 1px 2px rgba(0, 0, 0, 0.3));\n",
              "      fill: #FFFFFF;\n",
              "    }\n",
              "  </style>\n",
              "\n",
              "      <script>\n",
              "        const buttonEl =\n",
              "          document.querySelector('#df-ad1199b4-122f-484a-b258-f99d1510bde8 button.colab-df-convert');\n",
              "        buttonEl.style.display =\n",
              "          google.colab.kernel.accessAllowed ? 'block' : 'none';\n",
              "\n",
              "        async function convertToInteractive(key) {\n",
              "          const element = document.querySelector('#df-ad1199b4-122f-484a-b258-f99d1510bde8');\n",
              "          const dataTable =\n",
              "            await google.colab.kernel.invokeFunction('convertToInteractive',\n",
              "                                                     [key], {});\n",
              "          if (!dataTable) return;\n",
              "\n",
              "          const docLinkHtml = 'Like what you see? Visit the ' +\n",
              "            '<a target=\"_blank\" href=https://colab.research.google.com/notebooks/data_table.ipynb>data table notebook</a>'\n",
              "            + ' to learn more about interactive tables.';\n",
              "          element.innerHTML = '';\n",
              "          dataTable['output_type'] = 'display_data';\n",
              "          await google.colab.output.renderOutput(dataTable, element);\n",
              "          const docLink = document.createElement('div');\n",
              "          docLink.innerHTML = docLinkHtml;\n",
              "          element.appendChild(docLink);\n",
              "        }\n",
              "      </script>\n",
              "    </div>\n",
              "  </div>\n",
              "  "
            ]
          },
          "metadata": {},
          "execution_count": 18
        }
      ]
    },
    {
      "cell_type": "code",
      "source": [
        "y= normalized_df[\"P_S_S, kPa\"]\n",
        "x = normalized_df.drop([\"P_S_S, kPa\"],axis=1)\n",
        "\n"
      ],
      "metadata": {
        "id": "D60b6UswTF8k"
      },
      "execution_count": null,
      "outputs": []
    },
    {
      "cell_type": "code",
      "source": [
        "len(y),len(x)"
      ],
      "metadata": {
        "colab": {
          "base_uri": "https://localhost:8080/"
        },
        "id": "COqiP2d0kgEB",
        "outputId": "5419a8da-f944-4427-b4ab-4e3f525a63d3"
      },
      "execution_count": null,
      "outputs": [
        {
          "output_type": "execute_result",
          "data": {
            "text/plain": [
              "(309, 309)"
            ]
          },
          "metadata": {},
          "execution_count": 18
        }
      ]
    },
    {
      "cell_type": "code",
      "source": [
        "normalized_df"
      ],
      "metadata": {
        "colab": {
          "base_uri": "https://localhost:8080/",
          "height": 424
        },
        "id": "tiY5vxFFJNv4",
        "outputId": "426a84fb-f542-4db0-debd-c5c18d538b29"
      },
      "execution_count": null,
      "outputs": [
        {
          "output_type": "execute_result",
          "data": {
            "text/plain": [
              "      D50(mm)        Cu        Cc  N_S, kPa    R_D(%)  P_S_S, kPa\n",
              "0   -0.617941 -0.719441 -0.399313  2.188504  0.724649    1.362557\n",
              "1   -0.617941 -0.719441 -0.399313  0.657616  0.724649    0.266784\n",
              "2   -0.617941 -0.719441 -0.399313 -0.107827  0.724649   -0.253709\n",
              "3   -0.617941 -0.719441 -0.399313 -0.490549  0.724649   -0.591572\n",
              "4   -0.617941 -0.719441 -0.399313 -0.681910  0.724649   -0.785615\n",
              "..        ...       ...       ...       ...       ...         ...\n",
              "304  0.467710  1.422155 -1.752552 -0.554336  0.724649   -0.479712\n",
              "305  0.467710  1.422155 -1.752552 -0.235401  0.724649   -0.160872\n",
              "306  0.467710  1.422155 -1.752552  0.402468  0.724649    0.527791\n",
              "307  0.467710  1.422155 -1.752552  1.678208  0.724649    1.594648\n",
              "308  0.467710  1.422155 -1.752552  4.229687  0.724649    3.743581\n",
              "\n",
              "[309 rows x 6 columns]"
            ],
            "text/html": [
              "\n",
              "  <div id=\"df-27780187-89ca-471e-8725-561d6e0886dd\">\n",
              "    <div class=\"colab-df-container\">\n",
              "      <div>\n",
              "<style scoped>\n",
              "    .dataframe tbody tr th:only-of-type {\n",
              "        vertical-align: middle;\n",
              "    }\n",
              "\n",
              "    .dataframe tbody tr th {\n",
              "        vertical-align: top;\n",
              "    }\n",
              "\n",
              "    .dataframe thead th {\n",
              "        text-align: right;\n",
              "    }\n",
              "</style>\n",
              "<table border=\"1\" class=\"dataframe\">\n",
              "  <thead>\n",
              "    <tr style=\"text-align: right;\">\n",
              "      <th></th>\n",
              "      <th>D50(mm)</th>\n",
              "      <th>Cu</th>\n",
              "      <th>Cc</th>\n",
              "      <th>N_S, kPa</th>\n",
              "      <th>R_D(%)</th>\n",
              "      <th>P_S_S, kPa</th>\n",
              "    </tr>\n",
              "  </thead>\n",
              "  <tbody>\n",
              "    <tr>\n",
              "      <th>0</th>\n",
              "      <td>-0.617941</td>\n",
              "      <td>-0.719441</td>\n",
              "      <td>-0.399313</td>\n",
              "      <td>2.188504</td>\n",
              "      <td>0.724649</td>\n",
              "      <td>1.362557</td>\n",
              "    </tr>\n",
              "    <tr>\n",
              "      <th>1</th>\n",
              "      <td>-0.617941</td>\n",
              "      <td>-0.719441</td>\n",
              "      <td>-0.399313</td>\n",
              "      <td>0.657616</td>\n",
              "      <td>0.724649</td>\n",
              "      <td>0.266784</td>\n",
              "    </tr>\n",
              "    <tr>\n",
              "      <th>2</th>\n",
              "      <td>-0.617941</td>\n",
              "      <td>-0.719441</td>\n",
              "      <td>-0.399313</td>\n",
              "      <td>-0.107827</td>\n",
              "      <td>0.724649</td>\n",
              "      <td>-0.253709</td>\n",
              "    </tr>\n",
              "    <tr>\n",
              "      <th>3</th>\n",
              "      <td>-0.617941</td>\n",
              "      <td>-0.719441</td>\n",
              "      <td>-0.399313</td>\n",
              "      <td>-0.490549</td>\n",
              "      <td>0.724649</td>\n",
              "      <td>-0.591572</td>\n",
              "    </tr>\n",
              "    <tr>\n",
              "      <th>4</th>\n",
              "      <td>-0.617941</td>\n",
              "      <td>-0.719441</td>\n",
              "      <td>-0.399313</td>\n",
              "      <td>-0.681910</td>\n",
              "      <td>0.724649</td>\n",
              "      <td>-0.785615</td>\n",
              "    </tr>\n",
              "    <tr>\n",
              "      <th>...</th>\n",
              "      <td>...</td>\n",
              "      <td>...</td>\n",
              "      <td>...</td>\n",
              "      <td>...</td>\n",
              "      <td>...</td>\n",
              "      <td>...</td>\n",
              "    </tr>\n",
              "    <tr>\n",
              "      <th>304</th>\n",
              "      <td>0.467710</td>\n",
              "      <td>1.422155</td>\n",
              "      <td>-1.752552</td>\n",
              "      <td>-0.554336</td>\n",
              "      <td>0.724649</td>\n",
              "      <td>-0.479712</td>\n",
              "    </tr>\n",
              "    <tr>\n",
              "      <th>305</th>\n",
              "      <td>0.467710</td>\n",
              "      <td>1.422155</td>\n",
              "      <td>-1.752552</td>\n",
              "      <td>-0.235401</td>\n",
              "      <td>0.724649</td>\n",
              "      <td>-0.160872</td>\n",
              "    </tr>\n",
              "    <tr>\n",
              "      <th>306</th>\n",
              "      <td>0.467710</td>\n",
              "      <td>1.422155</td>\n",
              "      <td>-1.752552</td>\n",
              "      <td>0.402468</td>\n",
              "      <td>0.724649</td>\n",
              "      <td>0.527791</td>\n",
              "    </tr>\n",
              "    <tr>\n",
              "      <th>307</th>\n",
              "      <td>0.467710</td>\n",
              "      <td>1.422155</td>\n",
              "      <td>-1.752552</td>\n",
              "      <td>1.678208</td>\n",
              "      <td>0.724649</td>\n",
              "      <td>1.594648</td>\n",
              "    </tr>\n",
              "    <tr>\n",
              "      <th>308</th>\n",
              "      <td>0.467710</td>\n",
              "      <td>1.422155</td>\n",
              "      <td>-1.752552</td>\n",
              "      <td>4.229687</td>\n",
              "      <td>0.724649</td>\n",
              "      <td>3.743581</td>\n",
              "    </tr>\n",
              "  </tbody>\n",
              "</table>\n",
              "<p>309 rows × 6 columns</p>\n",
              "</div>\n",
              "      <button class=\"colab-df-convert\" onclick=\"convertToInteractive('df-27780187-89ca-471e-8725-561d6e0886dd')\"\n",
              "              title=\"Convert this dataframe to an interactive table.\"\n",
              "              style=\"display:none;\">\n",
              "        \n",
              "  <svg xmlns=\"http://www.w3.org/2000/svg\" height=\"24px\"viewBox=\"0 0 24 24\"\n",
              "       width=\"24px\">\n",
              "    <path d=\"M0 0h24v24H0V0z\" fill=\"none\"/>\n",
              "    <path d=\"M18.56 5.44l.94 2.06.94-2.06 2.06-.94-2.06-.94-.94-2.06-.94 2.06-2.06.94zm-11 1L8.5 8.5l.94-2.06 2.06-.94-2.06-.94L8.5 2.5l-.94 2.06-2.06.94zm10 10l.94 2.06.94-2.06 2.06-.94-2.06-.94-.94-2.06-.94 2.06-2.06.94z\"/><path d=\"M17.41 7.96l-1.37-1.37c-.4-.4-.92-.59-1.43-.59-.52 0-1.04.2-1.43.59L10.3 9.45l-7.72 7.72c-.78.78-.78 2.05 0 2.83L4 21.41c.39.39.9.59 1.41.59.51 0 1.02-.2 1.41-.59l7.78-7.78 2.81-2.81c.8-.78.8-2.07 0-2.86zM5.41 20L4 18.59l7.72-7.72 1.47 1.35L5.41 20z\"/>\n",
              "  </svg>\n",
              "      </button>\n",
              "      \n",
              "  <style>\n",
              "    .colab-df-container {\n",
              "      display:flex;\n",
              "      flex-wrap:wrap;\n",
              "      gap: 12px;\n",
              "    }\n",
              "\n",
              "    .colab-df-convert {\n",
              "      background-color: #E8F0FE;\n",
              "      border: none;\n",
              "      border-radius: 50%;\n",
              "      cursor: pointer;\n",
              "      display: none;\n",
              "      fill: #1967D2;\n",
              "      height: 32px;\n",
              "      padding: 0 0 0 0;\n",
              "      width: 32px;\n",
              "    }\n",
              "\n",
              "    .colab-df-convert:hover {\n",
              "      background-color: #E2EBFA;\n",
              "      box-shadow: 0px 1px 2px rgba(60, 64, 67, 0.3), 0px 1px 3px 1px rgba(60, 64, 67, 0.15);\n",
              "      fill: #174EA6;\n",
              "    }\n",
              "\n",
              "    [theme=dark] .colab-df-convert {\n",
              "      background-color: #3B4455;\n",
              "      fill: #D2E3FC;\n",
              "    }\n",
              "\n",
              "    [theme=dark] .colab-df-convert:hover {\n",
              "      background-color: #434B5C;\n",
              "      box-shadow: 0px 1px 3px 1px rgba(0, 0, 0, 0.15);\n",
              "      filter: drop-shadow(0px 1px 2px rgba(0, 0, 0, 0.3));\n",
              "      fill: #FFFFFF;\n",
              "    }\n",
              "  </style>\n",
              "\n",
              "      <script>\n",
              "        const buttonEl =\n",
              "          document.querySelector('#df-27780187-89ca-471e-8725-561d6e0886dd button.colab-df-convert');\n",
              "        buttonEl.style.display =\n",
              "          google.colab.kernel.accessAllowed ? 'block' : 'none';\n",
              "\n",
              "        async function convertToInteractive(key) {\n",
              "          const element = document.querySelector('#df-27780187-89ca-471e-8725-561d6e0886dd');\n",
              "          const dataTable =\n",
              "            await google.colab.kernel.invokeFunction('convertToInteractive',\n",
              "                                                     [key], {});\n",
              "          if (!dataTable) return;\n",
              "\n",
              "          const docLinkHtml = 'Like what you see? Visit the ' +\n",
              "            '<a target=\"_blank\" href=https://colab.research.google.com/notebooks/data_table.ipynb>data table notebook</a>'\n",
              "            + ' to learn more about interactive tables.';\n",
              "          element.innerHTML = '';\n",
              "          dataTable['output_type'] = 'display_data';\n",
              "          await google.colab.output.renderOutput(dataTable, element);\n",
              "          const docLink = document.createElement('div');\n",
              "          docLink.innerHTML = docLinkHtml;\n",
              "          element.appendChild(docLink);\n",
              "        }\n",
              "      </script>\n",
              "    </div>\n",
              "  </div>\n",
              "  "
            ]
          },
          "metadata": {},
          "execution_count": 20
        }
      ]
    },
    {
      "cell_type": "code",
      "source": [],
      "metadata": {
        "colab": {
          "base_uri": "https://localhost:8080/",
          "height": 165
        },
        "id": "Ngae5Cd2JB_d",
        "outputId": "5b219ebd-145e-4974-98aa-8d1ccbbb0044"
      },
      "execution_count": null,
      "outputs": [
        {
          "output_type": "error",
          "ename": "NameError",
          "evalue": "ignored",
          "traceback": [
            "\u001b[0;31m---------------------------------------------------------------------------\u001b[0m",
            "\u001b[0;31mNameError\u001b[0m                                 Traceback (most recent call last)",
            "\u001b[0;32m<ipython-input-17-00cf07b74dcd>\u001b[0m in \u001b[0;36m<cell line: 1>\u001b[0;34m()\u001b[0m\n\u001b[0;32m----> 1\u001b[0;31m \u001b[0mdf\u001b[0m\u001b[0;34m\u001b[0m\u001b[0;34m\u001b[0m\u001b[0m\n\u001b[0m",
            "\u001b[0;31mNameError\u001b[0m: name 'df' is not defined"
          ]
        }
      ]
    },
    {
      "cell_type": "code",
      "source": [
        "y = normalized_df['N_S, kPa']\n"
      ],
      "metadata": {
        "id": "6mrPejlsV3f2"
      },
      "execution_count": null,
      "outputs": []
    },
    {
      "cell_type": "code",
      "source": [
        "df =  normalized_df.drop(['N_S, kPa'],axis=1)\n",
        "df =  df.drop([\"P_S_S, kPa\"],axis=1)"
      ],
      "metadata": {
        "id": "0QyADYpiJh3c"
      },
      "execution_count": null,
      "outputs": []
    },
    {
      "cell_type": "code",
      "source": [
        "from sklearn.model_selection import train_test_split\n",
        "x_train, x_test, y_train, y_test = train_test_split(x,y,\n",
        "    test_size=0.2, shuffle = True, random_state = 0)"
      ],
      "metadata": {
        "id": "454X1FL1TNKE"
      },
      "execution_count": null,
      "outputs": []
    },
    {
      "cell_type": "code",
      "source": [
        "reg = LazyRegressor(verbose=0, ignore_warnings=False, custom_metric=None)\n",
        "models, predictions = reg.fit(x_train, x_test, y_train, y_test)\n",
        "\n",
        "print(models)"
      ],
      "metadata": {
        "colab": {
          "base_uri": "https://localhost:8080/"
        },
        "id": "fZ-2oCZaTW7x",
        "outputId": "ad5bc15d-6ebb-4d18-c23a-4ea94a2703b3"
      },
      "execution_count": null,
      "outputs": [
        {
          "output_type": "stream",
          "name": "stderr",
          "text": [
            " 24%|██▍       | 10/42 [00:00<00:01, 22.64it/s]"
          ]
        },
        {
          "output_type": "stream",
          "name": "stdout",
          "text": [
            "GammaRegressor model failed to execute\n",
            "Some value(s) of y are out of the valid range of the loss 'HalfGammaLoss'.\n"
          ]
        },
        {
          "output_type": "stream",
          "name": "stderr",
          "text": [
            " 62%|██████▏   | 26/42 [00:01<00:01, 15.11it/s]"
          ]
        },
        {
          "output_type": "stream",
          "name": "stdout",
          "text": [
            "PoissonRegressor model failed to execute\n",
            "Some value(s) of y are out of the valid range of the loss 'HalfPoissonLoss'.\n"
          ]
        },
        {
          "output_type": "stream",
          "name": "stderr",
          "text": [
            "100%|██████████| 42/42 [00:04<00:00,  8.98it/s]"
          ]
        },
        {
          "output_type": "stream",
          "name": "stdout",
          "text": [
            "                               Adjusted R-Squared  R-Squared  RMSE  Time Taken\n",
            "Model                                                                         \n",
            "XGBRegressor                                 0.98       0.98  0.15        0.20\n",
            "GradientBoostingRegressor                    0.97       0.97  0.17        0.16\n",
            "BaggingRegressor                             0.97       0.97  0.17        0.03\n",
            "NuSVR                                        0.97       0.97  0.17        0.03\n",
            "SVR                                          0.97       0.97  0.18        0.02\n",
            "RandomForestRegressor                        0.96       0.97  0.18        0.30\n",
            "RANSACRegressor                              0.95       0.96  0.21        0.12\n",
            "LinearSVR                                    0.95       0.95  0.21        0.01\n",
            "HuberRegressor                               0.95       0.95  0.21        0.02\n",
            "MLPRegressor                                 0.95       0.95  0.22        0.41\n",
            "KernelRidge                                  0.94       0.95  0.23        0.03\n",
            "ExtraTreesRegressor                          0.94       0.95  0.23        0.15\n",
            "LassoCV                                      0.94       0.95  0.23        0.06\n",
            "ElasticNetCV                                 0.94       0.95  0.23        0.06\n",
            "LassoLarsCV                                  0.94       0.95  0.23        0.02\n",
            "LarsCV                                       0.94       0.95  0.23        0.06\n",
            "LassoLarsIC                                  0.94       0.95  0.23        0.02\n",
            "Lars                                         0.94       0.95  0.23        0.03\n",
            "OrthogonalMatchingPursuitCV                  0.94       0.95  0.23        0.02\n",
            "LinearRegression                             0.94       0.95  0.23        0.01\n",
            "TransformedTargetRegressor                   0.94       0.95  0.23        0.02\n",
            "RidgeCV                                      0.94       0.95  0.23        0.01\n",
            "Ridge                                        0.94       0.95  0.23        0.02\n",
            "BayesianRidge                                0.94       0.95  0.23        0.04\n",
            "SGDRegressor                                 0.94       0.94  0.24        0.01\n",
            "OrthogonalMatchingPursuit                    0.94       0.94  0.24        0.01\n",
            "ExtraTreeRegressor                           0.92       0.93  0.26        0.02\n",
            "AdaBoostRegressor                            0.89       0.90  0.32        0.10\n",
            "DecisionTreeRegressor                        0.89       0.90  0.32        0.01\n",
            "PassiveAggressiveRegressor                   0.88       0.89  0.34        0.01\n",
            "KNeighborsRegressor                          0.86       0.87  0.36        0.01\n",
            "HistGradientBoostingRegressor                0.84       0.86  0.38        0.14\n",
            "LGBMRegressor                                0.84       0.85  0.39        0.19\n",
            "TweedieRegressor                             0.69       0.71  0.54        0.16\n",
            "ElasticNet                                   0.40       0.45  0.74        0.01\n",
            "LassoLars                                   -0.11      -0.02  1.01        0.01\n",
            "Lasso                                       -0.11      -0.02  1.01        0.02\n",
            "DummyRegressor                              -0.11      -0.02  1.01        0.01\n",
            "QuantileRegressor                           -0.13      -0.04  1.02        2.01\n",
            "GaussianProcessRegressor                    -5.35      -4.83  2.42        0.04\n"
          ]
        },
        {
          "output_type": "stream",
          "name": "stderr",
          "text": [
            "\n"
          ]
        }
      ]
    },
    {
      "cell_type": "code",
      "source": [
        "\n",
        "from sklearn.metrics import r2_score"
      ],
      "metadata": {
        "id": "eRTedUwOvbaD"
      },
      "execution_count": null,
      "outputs": []
    },
    {
      "cell_type": "code",
      "source": [
        "from xgboost import XGBRegressor\n",
        "from sklearn.metrics import mean_squared_error as MSE\n",
        "xg = XGBRegressor(objective='reg:squarederror', learning_rate=0.5)\n",
        "xg.fit(x_train,y_train)\n",
        "pred = xg.predict(x_test)\n",
        "pred2= xg.predict(x_train)\n",
        "rmse = np.sqrt(MSE(y_test, pred))\n",
        "print(\"RMSE : % f\" %(rmse))\n",
        "print(np.sqrt(MSE(y_train,pred2)))"
      ],
      "metadata": {
        "colab": {
          "base_uri": "https://localhost:8080/"
        },
        "id": "t5zQytY7T9OY",
        "outputId": "caea64b6-1f1e-48ce-f99b-747495e10d64"
      },
      "execution_count": null,
      "outputs": [
        {
          "output_type": "stream",
          "name": "stdout",
          "text": [
            "RMSE :  0.165073\n",
            "0.01915231976212691\n"
          ]
        }
      ]
    },
    {
      "cell_type": "code",
      "source": [
        "from sklearn.svm import SVR\n",
        "from sklearn.model_selection import train_test_split\n",
        "from sklearn.metrics import mean_squared_error\n",
        "\n",
        "\n",
        "# Create SVR object and fit the training data\n",
        "svr = SVR(kernel='rbf', C=1, epsilon=0.1)\n",
        "svr.fit(x_train, y_train)\n",
        "\n",
        "# Make predictions on the training and test data\n",
        "y_pred_train = svr.predict(x_train)\n",
        "y_pred_test = svr.predict(x_test)\n",
        "\n",
        "# Calculate the root mean squared error for training and test sets\n",
        "rmse_train = mean_squared_error(y_train, y_pred_train, squared=False)\n",
        "rmse_test = mean_squared_error(y_test, y_pred_test, squared=False)\n",
        "\n",
        "print(\"RMSE for training set: \", rmse_train)\n",
        "print(\"RMSE for test set: \", rmse_test)\n",
        "\n"
      ],
      "metadata": {
        "id": "lDGpuu-18mk8",
        "colab": {
          "base_uri": "https://localhost:8080/"
        },
        "outputId": "b191ef03-a6e8-4f58-dcf4-6cdfb822c616"
      },
      "execution_count": null,
      "outputs": [
        {
          "output_type": "stream",
          "name": "stdout",
          "text": [
            "RMSE for training set:  0.39820802486339774\n",
            "RMSE for test set:  0.18124817461213458\n"
          ]
        }
      ]
    },
    {
      "cell_type": "code",
      "source": [
        "from sklearn.ensemble import RandomForestRegressor\n",
        "\n",
        "\n",
        "# Create Random Forest Regressor object and fit the training data\n",
        "rf = RandomForestRegressor(n_estimators=100, random_state=42)\n",
        "rf.fit(x_train, y_train)\n",
        "\n",
        "# Make predictions on the training and test data\n",
        "y_pred_train = rf.predict(x_train)\n",
        "y_pred_test = rf.predict(x_test)\n",
        "\n",
        "# Calculate the root mean squared error for training and test sets\n",
        "rmse_train = mean_squared_error(y_train, y_pred_train, squared=False)\n",
        "rmse_test = mean_squared_error(y_test, y_pred_test, squared=False)\n",
        "\n",
        "print(\"RMSE for training set: \", rmse_train)\n",
        "print(\"RMSE for test set: \", rmse_test)\n"
      ],
      "metadata": {
        "colab": {
          "base_uri": "https://localhost:8080/"
        },
        "id": "jk4gyukslw_T",
        "outputId": "3730340e-a4ca-4353-aad0-52cf8f6db473"
      },
      "execution_count": null,
      "outputs": [
        {
          "output_type": "stream",
          "name": "stdout",
          "text": [
            "RMSE for training set:  0.11729590511518533\n",
            "RMSE for test set:  0.18393519028753505\n"
          ]
        }
      ]
    },
    {
      "cell_type": "code",
      "source": [
        "import numpy as np\n",
        "from keras.models import Sequential\n",
        "from keras.layers import Dense\n",
        "from sklearn.model_selection import train_test_split\n",
        "from sklearn.metrics import mean_squared_error\n",
        "\n",
        "\n",
        "\n",
        "\n",
        "# Define the model architecture\n",
        "model = Sequential()\n",
        "model.add(Dense(64, input_dim=x_train.shape[1], activation='relu'))\n",
        "model.add(Dense(32, activation='relu'))\n",
        "model.add(Dense(1, activation='linear'))\n",
        "\n",
        "# Compile the model\n",
        "model.compile(loss='mean_squared_error', optimizer='adam')\n",
        "\n",
        "# Train the model on the training data\n",
        "model.fit(x_train, y_train, epochs=50, batch_size=8, verbose=0)\n",
        "\n",
        "# Make predictions on the training and test data\n",
        "y_pred_train = model.predict(x_train)\n",
        "y_pred_test = model.predict(x_test)\n",
        "\n",
        "# Calculate the root mean squared error for training and test sets\n",
        "rmse_train = np.sqrt(mean_squared_error(y_train, y_pred_train))\n",
        "rmse_test = np.sqrt(mean_squared_error(y_test, y_pred_test))\n",
        "\n",
        "print(\"RMSE for training set: \", rmse_train)\n",
        "print(\"RMSE for test set: \", rmse_test)\n"
      ],
      "metadata": {
        "colab": {
          "base_uri": "https://localhost:8080/"
        },
        "id": "p9-mzAP0z9LC",
        "outputId": "847e0782-f7ba-41ef-e2d5-7072fd4c55ec"
      },
      "execution_count": null,
      "outputs": [
        {
          "output_type": "stream",
          "name": "stdout",
          "text": [
            "8/8 [==============================] - 0s 2ms/step\n",
            "2/2 [==============================] - 0s 8ms/step\n",
            "RMSE for training set:  0.2914885778909946\n",
            "RMSE for test set:  0.20547962381106988\n"
          ]
        }
      ]
    },
    {
      "cell_type": "code",
      "source": [
        "import numpy as np\n",
        "from sklearn.ensemble import RandomForestRegressor\n",
        "from sklearn.svm import SVR\n",
        "from xgboost import XGBRegressor\n",
        "from keras.models import Sequential\n",
        "from keras.layers import Dense\n",
        "from sklearn.model_selection import train_test_split\n",
        "from sklearn.metrics import mean_squared_error\n",
        "from sklearn.model_selection import GridSearchCV\n",
        "from sklearn.metrics import mean_squared_error\n",
        "\n",
        "\n",
        "# Define the architecture of the neural network\n",
        "model = Sequential()\n",
        "model.add(Dense(64, input_dim=x_train.shape[1], activation='relu'))\n",
        "model.add(Dense(32, activation='relu'))\n",
        "model.add(Dense(1, activation='linear'))\n",
        "model.compile(loss='mean_squared_error', optimizer='adam')\n",
        "# Train the first layer on the training data\n",
        "model.fit(x_train, y_train, epochs=50, batch_size=32, verbose=0)\n",
        "\n",
        "# Use the output of the first layer as input to the second layer\n",
        "y_pred_ann = model.predict(x_test)\n",
        "X_train2 = model.predict(x_train)\n",
        "\n",
        "# Create an SVR model and train it on the second layer's outputs\n",
        "svr = SVR(kernel='rbf')\n",
        "svr.fit(X_train2, y_train)\n",
        "\n",
        "# Use the second layer's outputs as input to the XGBoost model\n",
        "xgb = XGBRegressor(n_estimators=100, random_state=42)\n",
        "xgb.fit(X_train2, y_train)\n",
        "X_test2 = model.predict(x_test)\n",
        "y_pred_xgb = xgb.predict(X_test2)\n",
        "\n",
        "# Use the second layer's outputs as input to the Random Forest model\n",
        "rf = RandomForestRegressor(n_estimators=100, random_state=42)\n",
        "rf.fit(X_train2, y_train)\n",
        "y_pred_rf = rf.predict(X_test2)\n",
        "\n",
        "y_pred_ensemble = (y_pred_xgb + y_pred_rf + svr.predict(X_test2)) / 3\n",
        "\n",
        "# Calculate the root mean squared error of the ensemble model for testing data\n",
        "rmse_ensemble_test = np.sqrt(mean_squared_error(y_test, y_pred_ensemble))\n",
        "print(\"RMSE of the ensemble model (testing): \", rmse_ensemble_test)\n",
        "\n",
        "# Calculate the root mean squared error of the ensemble model for training data\n",
        "y_pred_train_xgb = xgb.predict(X_train2)\n",
        "y_pred_train_rf = rf.predict(X_train2)\n",
        "y_pred_train_svr = svr.predict(X_train2)\n",
        "y_pred_ensemble_train = (y_pred_train_xgb + y_pred_train_rf + y_pred_train_svr) / 3\n",
        "rmse_ensemble_train = np.sqrt(mean_squared_error(y_train, y_pred_ensemble_train))\n",
        "print(\"RMSE of the ensemble model (training): \", rmse_ensemble_train)"
      ],
      "metadata": {
        "colab": {
          "base_uri": "https://localhost:8080/"
        },
        "id": "hHui3Z7g1Pz_",
        "outputId": "168f92ed-3595-46da-aafe-310cca823c95"
      },
      "execution_count": null,
      "outputs": [
        {
          "output_type": "stream",
          "name": "stdout",
          "text": [
            "2/2 [==============================] - 0s 7ms/step\n",
            "8/8 [==============================] - 0s 2ms/step\n",
            "2/2 [==============================] - 0s 4ms/step\n",
            "RMSE of the ensemble model (testing):  0.20776384275953375\n",
            "RMSE of the ensemble model (training):  0.16447777014692222\n"
          ]
        }
      ]
    },
    {
      "cell_type": "code",
      "source": [
        "import numpy as np\n",
        "from sklearn.ensemble import RandomForestRegressor\n",
        "from sklearn.svm import SVR\n",
        "from xgboost import XGBRegressor\n",
        "from keras.models import Sequential\n",
        "from keras.layers import Dense\n",
        "from sklearn.model_selection import train_test_split, GridSearchCV\n",
        "from sklearn.metrics import mean_squared_error\n",
        "\n",
        "\n",
        "# Define the architecture of the neural network\n",
        "model = Sequential()\n",
        "model.add(Dense(64, input_dim=x_train.shape[1], activation='relu'))\n",
        "model.add(Dense(32, activation='relu'))\n",
        "model.add(Dense(1, activation='linear'))\n",
        "model.compile(loss='mean_squared_error', optimizer='adam')\n",
        "# Train the first layer on the training data\n",
        "model.fit(x_train, y_train, epochs=50, batch_size=32, verbose=0)\n",
        "\n",
        "# Use the output of the first layer as input to the second layer\n",
        "y_pred_ann = model.predict(x_test)\n",
        "X_train2 = model.predict(x_train)\n",
        "\n",
        "# Use grid search to tune hyperparameters for the SVR model\n",
        "svr = SVR()\n",
        "param_grid_svr = {'C': [0.01, 0.1, 1, 10], 'epsilon': [0.01, 0.1, 1, 10]}\n",
        "grid_svr = GridSearchCV(svr, param_grid_svr, scoring='neg_mean_squared_error', cv=5)\n",
        "grid_svr.fit(X_train2, y_train)\n",
        "best_svr = grid_svr.best_estimator_\n",
        "\n",
        "# Use grid search to tune hyperparameters for the XGBoost model\n",
        "xgb = XGBRegressor()\n",
        "param_grid_xgb = {'n_estimators': [50, 100, 150], 'max_depth': [3, 4, 5],'learning_rate':[0.1,0.5,0.9]}\n",
        "grid_xgb = GridSearchCV(xgb, param_grid_xgb, scoring='neg_mean_squared_error', cv=5)\n",
        "grid_xgb.fit(X_train2, y_train)\n",
        "best_xgb = grid_xgb.best_estimator_\n",
        "\n",
        "# Use grid search to tune hyperparameters for the Random Forest model\n",
        "rf = RandomForestRegressor()\n",
        "param_grid_rf = {'n_estimators': [50, 100, 150], 'max_depth': [3, 4, 5]}\n",
        "grid_rf = GridSearchCV(rf, param_grid_rf, scoring='neg_mean_squared_error', cv=5)\n",
        "grid_rf.fit(X_train2, y_train)\n",
        "best_rf = grid_rf.best_estimator_\n",
        "\n",
        "# Use the second layer's outputs as input to the XGBoost model\n",
        "X_test2 = model.predict(x_test)\n",
        "y_pred_xgb = best_xgb.predict(X_test2)\n",
        "\n",
        "# Use the second layer's outputs as input to the Random Forest model\n",
        "y_pred_rf = best_rf.predict(X_test2)\n",
        "\n",
        "# Combine the predictions of the SVR, XGBoost, and Random Forest models\n",
        "y_pred_ensemble = (y_pred_xgb + y_pred_rf + best_svr.predict(X_test2)) / 3\n",
        "\n",
        "# Calculate the root mean squared error of the ensemble model for testing data\n",
        "rmse_ensemble_test = np.sqrt(mean_squared_error(y_test, y_pred_ensemble))\n",
        "print(\"RMSE of the ensemble model (testing): \", rmse_ensemble_test)\n",
        "\n",
        "y_pred_train_xgb = grid_xgb.predict(X_train2)\n",
        "y_pred_train_rf = grid_rf.predict(X_train2)\n",
        "y_pred_train_svr = grid_svr.predict(X_train2)\n",
        "y_pred_ensemble_train = (y_pred_train_xgb + y_pred_train_rf + y_pred_train_svr) / 3\n",
        "rmse_ensemble_train = np.sqrt(mean_squared_error(y_train, y_pred_ensemble_train))\n",
        "print(\"RMSE of the ensemble model (training): \", rmse_ensemble_train)\n"
      ],
      "metadata": {
        "colab": {
          "base_uri": "https://localhost:8080/"
        },
        "id": "5XhKXFUm2TcG",
        "outputId": "5fc6f590-dabf-41f8-cb19-96679eaa30b0"
      },
      "execution_count": null,
      "outputs": [
        {
          "output_type": "stream",
          "name": "stdout",
          "text": [
            "2/2 [==============================] - 0s 5ms/step\n",
            "8/8 [==============================] - 0s 2ms/step\n",
            "2/2 [==============================] - 0s 7ms/step\n",
            "RMSE of the ensemble model (testing):  0.18176383858665374\n",
            "RMSE of the ensemble model (training):  0.2889330479769617\n"
          ]
        }
      ]
    },
    {
      "cell_type": "code",
      "source": [
        "model = Sequential()\n",
        "model.add(Dense(64, input_dim=x_train.shape[1], activation='relu'))\n",
        "model.add(Dense(32, activation='relu'))\n",
        "model.add(Dense(1, activation='linear'))\n",
        "model.compile(loss='mean_squared_error', optimizer='adam')\n",
        "# Train the first layer on the training data\n",
        "model.fit(x_train, y_train, epochs=50, batch_size=32, verbose=0)\n",
        "\n",
        "# Use the output of the first layer as input to the second layer\n",
        "y_pred_ann = model.predict(x_test)\n",
        "X_train2 = model.predict(x_train)\n",
        "\n",
        "# Use grid search to tune hyperparameters for the SVR model\n",
        "svr = SVR()\n",
        "param_grid_svr = {'C': [0.01, 0.1, 1, 10], 'epsilon': [0.01, 0.1, 1, 10]}\n",
        "grid_svr = GridSearchCV(svr, param_grid_svr, scoring='neg_mean_squared_error', cv=5)\n",
        "grid_svr.fit(X_train2, y_train)\n",
        "best_svr = grid_svr.best_estimator_\n",
        "\n",
        "# Use grid search to tune hyperparameters for the XGBoost model\n",
        "xgb = XGBRegressor()\n",
        "param_grid_xgb = {'n_estimators': [50, 100, 150], 'max_depth': [3, 4, 5],'learning_rate':[0.1,0.5,0.9]}\n",
        "grid_xgb = GridSearchCV(xgb, param_grid_xgb, scoring='neg_mean_squared_error', cv=5)\n",
        "grid_xgb.fit(X_train2, y_train)\n",
        "best_xgb = grid_xgb.best_estimator_\n",
        "\n",
        "# Use grid search to tune hyperparameters for the Random Forest model\n",
        "rf = RandomForestRegressor()\n",
        "param_grid_rf = {'n_estimators': [50, 100, 150], 'max_depth': [3, 4, 5]}\n",
        "grid_rf = GridSearchCV(rf, param_grid_rf, scoring='neg_mean_squared_error', cv=5)\n",
        "grid_rf.fit(X_train2, y_train)\n",
        "best_rf = grid_rf.best_estimator_\n",
        "\n",
        "\n",
        "# Use the second layer's outputs as input to the Random Forest model\n",
        "X_test2 = model.predict(x_test)\n",
        "y_pred_rf = best_rf.predict(X_test2)\n",
        "\n",
        "# Calculate the root mean squared error of the ensemble model for testing data\n",
        "rmse_ensemble_test = np.sqrt(mean_squared_error(y_test, y_pred_rf))\n",
        "print(\"RMSE of the ensemble model (testing): \", rmse_ensemble_test)\n",
        "\n",
        "# Calculate the root mean squared error of the ensemble model for training data\n",
        "y_pred_train_xgb = best_xgb.predict(X_train2)\n",
        "y_pred_train_rf = best_rf.predict(X_train2)\n",
        "rmse_ensemble_train = np.sqrt(mean_squared_error(y_train, y_pred_train_rf))\n",
        "print(\"RMSE of the ensemble model (training): \", rmse_ensemble_train)"
      ],
      "metadata": {
        "colab": {
          "base_uri": "https://localhost:8080/"
        },
        "id": "_fFXWarf3STY",
        "outputId": "4b57eaae-5235-4361-e0cd-c7c2beab5841"
      },
      "execution_count": null,
      "outputs": [
        {
          "output_type": "stream",
          "name": "stdout",
          "text": [
            "2/2 [==============================] - 0s 8ms/step\n",
            "8/8 [==============================] - 0s 2ms/step\n",
            "2/2 [==============================] - 0s 7ms/step\n",
            "RMSE of the ensemble model (testing):  0.19016698622686543\n",
            "RMSE of the ensemble model (testing):  0.2427063152870269\n"
          ]
        }
      ]
    },
    {
      "cell_type": "code",
      "source": [],
      "metadata": {
        "id": "oHQyFlW64prO"
      },
      "execution_count": null,
      "outputs": []
    },
    {
      "cell_type": "code",
      "source": [
        "y_x_train  = y_train*std_dev[-1] + mean[-1]"
      ],
      "metadata": {
        "id": "RPYdNQOb5SWg"
      },
      "execution_count": null,
      "outputs": []
    },
    {
      "cell_type": "code",
      "source": [
        "l=list(pred2)"
      ],
      "metadata": {
        "id": "E16W3RVv5tWJ"
      },
      "execution_count": null,
      "outputs": []
    },
    {
      "cell_type": "code",
      "source": [
        "predicted=pred2*std_dev[-1] + mean[-1]"
      ],
      "metadata": {
        "id": "3FxaiiPu5e76"
      },
      "execution_count": null,
      "outputs": []
    },
    {
      "cell_type": "code",
      "source": [
        "\n",
        "pd.DataFrame(predicted).to_csv(\"train_predicted.csv\")"
      ],
      "metadata": {
        "id": "3gMwDKTc54EU"
      },
      "execution_count": null,
      "outputs": []
    },
    {
      "cell_type": "code",
      "source": [
        "y_x_train\n",
        "y_x_train.to_csv('y_train.csv',index=True)"
      ],
      "metadata": {
        "id": "ps_NVEU85drF"
      },
      "execution_count": null,
      "outputs": []
    },
    {
      "cell_type": "code",
      "source": [
        "r2_test = r2_score(y_test, pred)\n",
        "r2_test"
      ],
      "metadata": {
        "colab": {
          "base_uri": "https://localhost:8080/"
        },
        "id": "wNwR7XipvcdE",
        "outputId": "3b42204a-2e89-4d90-e4f6-6d2df3e9b7a7"
      },
      "execution_count": null,
      "outputs": [
        {
          "output_type": "execute_result",
          "data": {
            "text/plain": [
              "0.9988618628208297"
            ]
          },
          "metadata": {},
          "execution_count": 107
        }
      ]
    },
    {
      "cell_type": "code",
      "source": [
        "r2_train = r2_score(y_train,pred2)\n",
        "r2_train"
      ],
      "metadata": {
        "colab": {
          "base_uri": "https://localhost:8080/"
        },
        "id": "1SKEWKRhviUD",
        "outputId": "e22bcad9-e279-4f22-b57f-c08422746b34"
      },
      "execution_count": null,
      "outputs": [
        {
          "output_type": "execute_result",
          "data": {
            "text/plain": [
              "0.9993550550757598"
            ]
          },
          "metadata": {},
          "execution_count": 99
        }
      ]
    },
    {
      "cell_type": "code",
      "source": [
        "data_test =  pd.read_csv(\"/content/validation data - validation data.csv\")"
      ],
      "metadata": {
        "id": "Q6xopeu21XCT"
      },
      "execution_count": null,
      "outputs": []
    },
    {
      "cell_type": "code",
      "source": [
        "normalized_df_test = (data_test - mean) / std_dev\n"
      ],
      "metadata": {
        "id": "vwQwV0-o2efr"
      },
      "execution_count": null,
      "outputs": []
    },
    {
      "cell_type": "code",
      "source": [
        "y_val= normalized_df_test[\"P_S_S, kPa\"]\n",
        "df_val=normalized_df_test.drop([\"P_S_S, kPa\"],axis=1)"
      ],
      "metadata": {
        "id": "5KWDb0_T2kwh"
      },
      "execution_count": null,
      "outputs": []
    },
    {
      "cell_type": "code",
      "source": [
        "pred8= xg.predict(df_val)\n",
        "rmse = np.sqrt(MSE(y_val, pred8))"
      ],
      "metadata": {
        "id": "nC56m3XZ2yty"
      },
      "execution_count": null,
      "outputs": []
    },
    {
      "cell_type": "code",
      "source": [
        "y_val_t = y_val *std_dev[-1] + mean[-1]\n",
        "pred8_t = pred8*std_dev[-1] + mean[-1]\n",
        "pd.DataFrame(y_val_t).to_csv(\"train.csv\")\n",
        "pd.DataFrame(pred8_t).to_csv(\"test.csv\")"
      ],
      "metadata": {
        "id": "uNA_Nd6S-1zU"
      },
      "execution_count": null,
      "outputs": []
    },
    {
      "cell_type": "code",
      "source": [
        "r3=r2_score(y_val,pred8)"
      ],
      "metadata": {
        "id": "ege5fOL5wRBn"
      },
      "execution_count": null,
      "outputs": []
    },
    {
      "cell_type": "code",
      "source": [
        "r3"
      ],
      "metadata": {
        "id": "NfNJyAumwVrP",
        "colab": {
          "base_uri": "https://localhost:8080/"
        },
        "outputId": "3d8318d4-079b-4c97-ec83-3119fb92784b"
      },
      "execution_count": null,
      "outputs": [
        {
          "output_type": "execute_result",
          "data": {
            "text/plain": [
              "0.9305683254958681"
            ]
          },
          "metadata": {},
          "execution_count": 97
        }
      ]
    },
    {
      "cell_type": "code",
      "source": [
        "rmse"
      ],
      "metadata": {
        "id": "ZyJnLoVS3JF4",
        "colab": {
          "base_uri": "https://localhost:8080/"
        },
        "outputId": "d88fdbe5-eb83-4165-d381-827deaca34ac"
      },
      "execution_count": null,
      "outputs": [
        {
          "output_type": "execute_result",
          "data": {
            "text/plain": [
              "0.10330190115294766"
            ]
          },
          "metadata": {},
          "execution_count": 95
        }
      ]
    },
    {
      "cell_type": "code",
      "source": [
        "feature_important = xg.get_booster().get_score(importance_type='weight')\n",
        "keys = list(feature_important.keys())\n",
        "values = list(feature_important.values())\n",
        "\n",
        "data = pd.DataFrame(data=values, index=keys, columns=[\"score\"]).sort_values(by = \"score\", ascending=False)\n",
        "data.nlargest(40, columns=\"score\").plot(kind='barh', figsize = (10,5)) ## plot top 5 features"
      ],
      "metadata": {
        "id": "7l3byGGgwjbt",
        "colab": {
          "base_uri": "https://localhost:8080/",
          "height": 462
        },
        "outputId": "cba97614-75c7-4a2f-a71c-0f2ff35cac7d"
      },
      "execution_count": null,
      "outputs": [
        {
          "output_type": "execute_result",
          "data": {
            "text/plain": [
              "<Axes: >"
            ]
          },
          "metadata": {},
          "execution_count": 29
        },
        {
          "output_type": "display_data",
          "data": {
            "text/plain": [
              "<Figure size 1000x500 with 1 Axes>"
            ],
            "image/png": "[encoded data removed]"
          },
          "metadata": {}
        }
      ]
    },
    {
      "cell_type": "code",
      "source": [
        "data"
      ],
      "metadata": {
        "id": "79WTr4_vxR2t"
      },
      "execution_count": null,
      "outputs": []
    }
  ]
}